{
 "cells": [
  {
   "cell_type": "code",
   "execution_count": 1,
   "id": "7edf5bef",
   "metadata": {},
   "outputs": [],
   "source": [
    "import pandas as pd"
   ]
  },
  {
   "cell_type": "code",
   "execution_count": 2,
   "id": "a054d54c",
   "metadata": {},
   "outputs": [],
   "source": [
    "df=pd.read_csv('QueryResults1.csv')"
   ]
  },
  {
   "cell_type": "code",
   "execution_count": 3,
   "id": "7d64d6b0",
   "metadata": {},
   "outputs": [
    {
     "data": {
      "text/html": [
       "<div>\n",
       "<style scoped>\n",
       "    .dataframe tbody tr th:only-of-type {\n",
       "        vertical-align: middle;\n",
       "    }\n",
       "\n",
       "    .dataframe tbody tr th {\n",
       "        vertical-align: top;\n",
       "    }\n",
       "\n",
       "    .dataframe thead th {\n",
       "        text-align: right;\n",
       "    }\n",
       "</style>\n",
       "<table border=\"1\" class=\"dataframe\">\n",
       "  <thead>\n",
       "    <tr style=\"text-align: right;\">\n",
       "      <th></th>\n",
       "      <th>Id</th>\n",
       "      <th>PostTypeId</th>\n",
       "      <th>AcceptedAnswerId</th>\n",
       "      <th>ParentId</th>\n",
       "      <th>CreationDate</th>\n",
       "      <th>DeletionDate</th>\n",
       "      <th>Score</th>\n",
       "      <th>ViewCount</th>\n",
       "      <th>Body</th>\n",
       "      <th>OwnerUserId</th>\n",
       "      <th>...</th>\n",
       "      <th>LastEditDate</th>\n",
       "      <th>LastActivityDate</th>\n",
       "      <th>Title</th>\n",
       "      <th>Tags</th>\n",
       "      <th>AnswerCount</th>\n",
       "      <th>CommentCount</th>\n",
       "      <th>FavoriteCount</th>\n",
       "      <th>ClosedDate</th>\n",
       "      <th>CommunityOwnedDate</th>\n",
       "      <th>ContentLicense</th>\n",
       "    </tr>\n",
       "  </thead>\n",
       "  <tbody>\n",
       "    <tr>\n",
       "      <th>0</th>\n",
       "      <td>71911980</td>\n",
       "      <td>1</td>\n",
       "      <td>NaN</td>\n",
       "      <td>NaN</td>\n",
       "      <td>2022-04-18 12:44:51</td>\n",
       "      <td>NaN</td>\n",
       "      <td>0</td>\n",
       "      <td>368</td>\n",
       "      <td>&lt;p&gt;Everything in my code is working well, unti...</td>\n",
       "      <td>6542807.0</td>\n",
       "      <td>...</td>\n",
       "      <td>2022-04-18 17:16:12</td>\n",
       "      <td>2022-04-18 17:16:12</td>\n",
       "      <td>ValueError on KNN in Python</td>\n",
       "      <td>&lt;python&gt;&lt;data-science&gt;&lt;knn&gt;</td>\n",
       "      <td>0</td>\n",
       "      <td>6</td>\n",
       "      <td>0.0</td>\n",
       "      <td>NaN</td>\n",
       "      <td>NaN</td>\n",
       "      <td>CC BY-SA 4.0</td>\n",
       "    </tr>\n",
       "    <tr>\n",
       "      <th>1</th>\n",
       "      <td>71482445</td>\n",
       "      <td>1</td>\n",
       "      <td>NaN</td>\n",
       "      <td>NaN</td>\n",
       "      <td>2022-03-15 12:42:56</td>\n",
       "      <td>NaN</td>\n",
       "      <td>0</td>\n",
       "      <td>512</td>\n",
       "      <td>&lt;p&gt;For example:&lt;/p&gt;\\n&lt;h2&gt;dataframe A&lt;/h2&gt;\\n&lt;di...</td>\n",
       "      <td>18472617.0</td>\n",
       "      <td>...</td>\n",
       "      <td>2022-03-15 12:51:33</td>\n",
       "      <td>2022-03-15 16:10:09</td>\n",
       "      <td>How to multiply two pyspark dataframes element...</td>\n",
       "      <td>&lt;python&gt;&lt;pyspark&gt;&lt;data-science&gt;</td>\n",
       "      <td>2</td>\n",
       "      <td>2</td>\n",
       "      <td>NaN</td>\n",
       "      <td>NaN</td>\n",
       "      <td>NaN</td>\n",
       "      <td>CC BY-SA 4.0</td>\n",
       "    </tr>\n",
       "    <tr>\n",
       "      <th>2</th>\n",
       "      <td>73047143</td>\n",
       "      <td>1</td>\n",
       "      <td>NaN</td>\n",
       "      <td>NaN</td>\n",
       "      <td>2022-07-20 06:53:51</td>\n",
       "      <td>NaN</td>\n",
       "      <td>1</td>\n",
       "      <td>45</td>\n",
       "      <td>&lt;p&gt;My requirement is that I have an xlsx workb...</td>\n",
       "      <td>19452662.0</td>\n",
       "      <td>...</td>\n",
       "      <td>2022-07-20 07:07:46</td>\n",
       "      <td>2022-07-20 07:07:46</td>\n",
       "      <td>How to pass data from an xlsx to another code ...</td>\n",
       "      <td>&lt;python&gt;&lt;excel&gt;&lt;data-science&gt;</td>\n",
       "      <td>0</td>\n",
       "      <td>1</td>\n",
       "      <td>NaN</td>\n",
       "      <td>NaN</td>\n",
       "      <td>NaN</td>\n",
       "      <td>CC BY-SA 4.0</td>\n",
       "    </tr>\n",
       "    <tr>\n",
       "      <th>3</th>\n",
       "      <td>72243463</td>\n",
       "      <td>1</td>\n",
       "      <td>NaN</td>\n",
       "      <td>NaN</td>\n",
       "      <td>2022-05-14 19:55:19</td>\n",
       "      <td>NaN</td>\n",
       "      <td>0</td>\n",
       "      <td>251</td>\n",
       "      <td>&lt;p&gt;I have two datasets that are collected at d...</td>\n",
       "      <td>8753176.0</td>\n",
       "      <td>...</td>\n",
       "      <td>NaN</td>\n",
       "      <td>2022-09-16 21:15:32</td>\n",
       "      <td>how to align sliding window to extract feature...</td>\n",
       "      <td>&lt;python&gt;&lt;machine-learning&gt;&lt;statistics&gt;&lt;data-sc...</td>\n",
       "      <td>1</td>\n",
       "      <td>1</td>\n",
       "      <td>NaN</td>\n",
       "      <td>NaN</td>\n",
       "      <td>NaN</td>\n",
       "      <td>CC BY-SA 4.0</td>\n",
       "    </tr>\n",
       "    <tr>\n",
       "      <th>4</th>\n",
       "      <td>72243721</td>\n",
       "      <td>1</td>\n",
       "      <td>72244080.0</td>\n",
       "      <td>NaN</td>\n",
       "      <td>2022-05-14 20:41:51</td>\n",
       "      <td>NaN</td>\n",
       "      <td>0</td>\n",
       "      <td>26</td>\n",
       "      <td>&lt;p&gt;I am learning pandas and Data Science and a...</td>\n",
       "      <td>9918947.0</td>\n",
       "      <td>...</td>\n",
       "      <td>2022-05-14 20:48:32</td>\n",
       "      <td>2022-05-14 21:46:21</td>\n",
       "      <td>How to get this single column data into data f...</td>\n",
       "      <td>&lt;python&gt;&lt;pandas&gt;&lt;dataframe&gt;&lt;data-science&gt;</td>\n",
       "      <td>1</td>\n",
       "      <td>0</td>\n",
       "      <td>NaN</td>\n",
       "      <td>NaN</td>\n",
       "      <td>NaN</td>\n",
       "      <td>CC BY-SA 4.0</td>\n",
       "    </tr>\n",
       "  </tbody>\n",
       "</table>\n",
       "<p>5 rows × 23 columns</p>\n",
       "</div>"
      ],
      "text/plain": [
       "         Id  PostTypeId  AcceptedAnswerId  ParentId         CreationDate  \\\n",
       "0  71911980           1               NaN       NaN  2022-04-18 12:44:51   \n",
       "1  71482445           1               NaN       NaN  2022-03-15 12:42:56   \n",
       "2  73047143           1               NaN       NaN  2022-07-20 06:53:51   \n",
       "3  72243463           1               NaN       NaN  2022-05-14 19:55:19   \n",
       "4  72243721           1        72244080.0       NaN  2022-05-14 20:41:51   \n",
       "\n",
       "   DeletionDate  Score  ViewCount  \\\n",
       "0           NaN      0        368   \n",
       "1           NaN      0        512   \n",
       "2           NaN      1         45   \n",
       "3           NaN      0        251   \n",
       "4           NaN      0         26   \n",
       "\n",
       "                                                Body  OwnerUserId  ...  \\\n",
       "0  <p>Everything in my code is working well, unti...    6542807.0  ...   \n",
       "1  <p>For example:</p>\\n<h2>dataframe A</h2>\\n<di...   18472617.0  ...   \n",
       "2  <p>My requirement is that I have an xlsx workb...   19452662.0  ...   \n",
       "3  <p>I have two datasets that are collected at d...    8753176.0  ...   \n",
       "4  <p>I am learning pandas and Data Science and a...    9918947.0  ...   \n",
       "\n",
       "          LastEditDate     LastActivityDate  \\\n",
       "0  2022-04-18 17:16:12  2022-04-18 17:16:12   \n",
       "1  2022-03-15 12:51:33  2022-03-15 16:10:09   \n",
       "2  2022-07-20 07:07:46  2022-07-20 07:07:46   \n",
       "3                  NaN  2022-09-16 21:15:32   \n",
       "4  2022-05-14 20:48:32  2022-05-14 21:46:21   \n",
       "\n",
       "                                               Title  \\\n",
       "0                        ValueError on KNN in Python   \n",
       "1  How to multiply two pyspark dataframes element...   \n",
       "2  How to pass data from an xlsx to another code ...   \n",
       "3  how to align sliding window to extract feature...   \n",
       "4  How to get this single column data into data f...   \n",
       "\n",
       "                                                Tags AnswerCount CommentCount  \\\n",
       "0                        <python><data-science><knn>           0            6   \n",
       "1                    <python><pyspark><data-science>           2            2   \n",
       "2                      <python><excel><data-science>           0            1   \n",
       "3  <python><machine-learning><statistics><data-sc...           1            1   \n",
       "4          <python><pandas><dataframe><data-science>           1            0   \n",
       "\n",
       "  FavoriteCount  ClosedDate  CommunityOwnedDate  ContentLicense  \n",
       "0           0.0         NaN                 NaN    CC BY-SA 4.0  \n",
       "1           NaN         NaN                 NaN    CC BY-SA 4.0  \n",
       "2           NaN         NaN                 NaN    CC BY-SA 4.0  \n",
       "3           NaN         NaN                 NaN    CC BY-SA 4.0  \n",
       "4           NaN         NaN                 NaN    CC BY-SA 4.0  \n",
       "\n",
       "[5 rows x 23 columns]"
      ]
     },
     "execution_count": 3,
     "metadata": {},
     "output_type": "execute_result"
    }
   ],
   "source": [
    "df.head()"
   ]
  },
  {
   "cell_type": "code",
   "execution_count": 4,
   "id": "8f3fe00f",
   "metadata": {},
   "outputs": [
    {
     "name": "stdout",
     "output_type": "stream",
     "text": [
      "<class 'pandas.core.frame.DataFrame'>\n",
      "RangeIndex: 1475 entries, 0 to 1474\n",
      "Data columns (total 23 columns):\n",
      " #   Column                 Non-Null Count  Dtype  \n",
      "---  ------                 --------------  -----  \n",
      " 0   Id                     1475 non-null   int64  \n",
      " 1   PostTypeId             1475 non-null   int64  \n",
      " 2   AcceptedAnswerId       536 non-null    float64\n",
      " 3   ParentId               0 non-null      float64\n",
      " 4   CreationDate           1475 non-null   object \n",
      " 5   DeletionDate           0 non-null      float64\n",
      " 6   Score                  1475 non-null   int64  \n",
      " 7   ViewCount              1475 non-null   int64  \n",
      " 8   Body                   1475 non-null   object \n",
      " 9   OwnerUserId            1455 non-null   float64\n",
      " 10  OwnerDisplayName       20 non-null     object \n",
      " 11  LastEditorUserId       739 non-null    float64\n",
      " 12  LastEditorDisplayName  18 non-null     object \n",
      " 13  LastEditDate           757 non-null    object \n",
      " 14  LastActivityDate       1475 non-null   object \n",
      " 15  Title                  1475 non-null   object \n",
      " 16  Tags                   1475 non-null   object \n",
      " 17  AnswerCount            1475 non-null   int64  \n",
      " 18  CommentCount           1475 non-null   int64  \n",
      " 19  FavoriteCount          74 non-null     float64\n",
      " 20  ClosedDate             79 non-null     object \n",
      " 21  CommunityOwnedDate     0 non-null      float64\n",
      " 22  ContentLicense         1475 non-null   object \n",
      "dtypes: float64(7), int64(6), object(10)\n",
      "memory usage: 265.2+ KB\n"
     ]
    }
   ],
   "source": [
    "df.info()"
   ]
  },
  {
   "cell_type": "markdown",
   "id": "a31924ab",
   "metadata": {},
   "source": [
    "Looks like there are a few columns we don't need, and many of those have majority null values. Let us get rid of these columns."
   ]
  },
  {
   "cell_type": "code",
   "execution_count": 5,
   "id": "5a36dcf7",
   "metadata": {},
   "outputs": [],
   "source": [
    "df = df.drop(['ParentId', 'DeletionDate','OwnerDisplayName','LastEditorDisplayName','FavoriteCount','CommunityOwnedDate'], axis=1)"
   ]
  },
  {
   "cell_type": "code",
   "execution_count": 6,
   "id": "a207a9ea",
   "metadata": {},
   "outputs": [
    {
     "name": "stdout",
     "output_type": "stream",
     "text": [
      "<class 'pandas.core.frame.DataFrame'>\n",
      "RangeIndex: 1475 entries, 0 to 1474\n",
      "Data columns (total 17 columns):\n",
      " #   Column            Non-Null Count  Dtype  \n",
      "---  ------            --------------  -----  \n",
      " 0   Id                1475 non-null   int64  \n",
      " 1   PostTypeId        1475 non-null   int64  \n",
      " 2   AcceptedAnswerId  536 non-null    float64\n",
      " 3   CreationDate      1475 non-null   object \n",
      " 4   Score             1475 non-null   int64  \n",
      " 5   ViewCount         1475 non-null   int64  \n",
      " 6   Body              1475 non-null   object \n",
      " 7   OwnerUserId       1455 non-null   float64\n",
      " 8   LastEditorUserId  739 non-null    float64\n",
      " 9   LastEditDate      757 non-null    object \n",
      " 10  LastActivityDate  1475 non-null   object \n",
      " 11  Title             1475 non-null   object \n",
      " 12  Tags              1475 non-null   object \n",
      " 13  AnswerCount       1475 non-null   int64  \n",
      " 14  CommentCount      1475 non-null   int64  \n",
      " 15  ClosedDate        79 non-null     object \n",
      " 16  ContentLicense    1475 non-null   object \n",
      "dtypes: float64(3), int64(6), object(8)\n",
      "memory usage: 196.0+ KB\n"
     ]
    }
   ],
   "source": [
    "df.info()"
   ]
  },
  {
   "cell_type": "markdown",
   "id": "6e0adc92",
   "metadata": {},
   "source": [
    "Most of these null values actually mean something. Null values for LastEditDate and LastEditorUserID mean the post was not edited, for ClosedDate means the post discussion has not been closed uet, etc. \n",
    "\n",
    "These missing values add value to our data analysis. Hence, instead of getting rid of the null values, we will give them a unique value of \"N/A\" or -1."
   ]
  },
  {
   "cell_type": "code",
   "execution_count": 7,
   "id": "ff6fe31d",
   "metadata": {},
   "outputs": [],
   "source": [
    "df['AcceptedAnswerId'].fillna(-1, inplace=True)"
   ]
  },
  {
   "cell_type": "code",
   "execution_count": 8,
   "id": "d05681b8",
   "metadata": {},
   "outputs": [],
   "source": [
    "df['OwnerUserId'].fillna(-1, inplace=True)\n",
    "df['LastEditorUserId'].fillna(-1, inplace=True)"
   ]
  },
  {
   "cell_type": "code",
   "execution_count": 9,
   "id": "f6a090cb",
   "metadata": {},
   "outputs": [],
   "source": [
    "df['LastEditDate'].fillna(\"N/A\", inplace=True)"
   ]
  },
  {
   "cell_type": "code",
   "execution_count": 10,
   "id": "ef64191e",
   "metadata": {},
   "outputs": [],
   "source": [
    "df['ClosedDate'].fillna(\"N/A\", inplace=True)"
   ]
  },
  {
   "cell_type": "code",
   "execution_count": 11,
   "id": "3d30983d",
   "metadata": {},
   "outputs": [
    {
     "data": {
      "text/html": [
       "<div>\n",
       "<style scoped>\n",
       "    .dataframe tbody tr th:only-of-type {\n",
       "        vertical-align: middle;\n",
       "    }\n",
       "\n",
       "    .dataframe tbody tr th {\n",
       "        vertical-align: top;\n",
       "    }\n",
       "\n",
       "    .dataframe thead th {\n",
       "        text-align: right;\n",
       "    }\n",
       "</style>\n",
       "<table border=\"1\" class=\"dataframe\">\n",
       "  <thead>\n",
       "    <tr style=\"text-align: right;\">\n",
       "      <th></th>\n",
       "      <th>Id</th>\n",
       "      <th>PostTypeId</th>\n",
       "      <th>AcceptedAnswerId</th>\n",
       "      <th>CreationDate</th>\n",
       "      <th>Score</th>\n",
       "      <th>ViewCount</th>\n",
       "      <th>Body</th>\n",
       "      <th>OwnerUserId</th>\n",
       "      <th>LastEditorUserId</th>\n",
       "      <th>LastEditDate</th>\n",
       "      <th>LastActivityDate</th>\n",
       "      <th>Title</th>\n",
       "      <th>Tags</th>\n",
       "      <th>AnswerCount</th>\n",
       "      <th>CommentCount</th>\n",
       "      <th>ClosedDate</th>\n",
       "      <th>ContentLicense</th>\n",
       "    </tr>\n",
       "  </thead>\n",
       "  <tbody>\n",
       "    <tr>\n",
       "      <th>0</th>\n",
       "      <td>71911980</td>\n",
       "      <td>1</td>\n",
       "      <td>-1.0</td>\n",
       "      <td>2022-04-18 12:44:51</td>\n",
       "      <td>0</td>\n",
       "      <td>368</td>\n",
       "      <td>&lt;p&gt;Everything in my code is working well, unti...</td>\n",
       "      <td>6542807.0</td>\n",
       "      <td>6542807.0</td>\n",
       "      <td>2022-04-18 17:16:12</td>\n",
       "      <td>2022-04-18 17:16:12</td>\n",
       "      <td>ValueError on KNN in Python</td>\n",
       "      <td>&lt;python&gt;&lt;data-science&gt;&lt;knn&gt;</td>\n",
       "      <td>0</td>\n",
       "      <td>6</td>\n",
       "      <td>N/A</td>\n",
       "      <td>CC BY-SA 4.0</td>\n",
       "    </tr>\n",
       "    <tr>\n",
       "      <th>1</th>\n",
       "      <td>71482445</td>\n",
       "      <td>1</td>\n",
       "      <td>-1.0</td>\n",
       "      <td>2022-03-15 12:42:56</td>\n",
       "      <td>0</td>\n",
       "      <td>512</td>\n",
       "      <td>&lt;p&gt;For example:&lt;/p&gt;\\n&lt;h2&gt;dataframe A&lt;/h2&gt;\\n&lt;di...</td>\n",
       "      <td>18472617.0</td>\n",
       "      <td>9840637.0</td>\n",
       "      <td>2022-03-15 12:51:33</td>\n",
       "      <td>2022-03-15 16:10:09</td>\n",
       "      <td>How to multiply two pyspark dataframes element...</td>\n",
       "      <td>&lt;python&gt;&lt;pyspark&gt;&lt;data-science&gt;</td>\n",
       "      <td>2</td>\n",
       "      <td>2</td>\n",
       "      <td>N/A</td>\n",
       "      <td>CC BY-SA 4.0</td>\n",
       "    </tr>\n",
       "    <tr>\n",
       "      <th>2</th>\n",
       "      <td>73047143</td>\n",
       "      <td>1</td>\n",
       "      <td>-1.0</td>\n",
       "      <td>2022-07-20 06:53:51</td>\n",
       "      <td>1</td>\n",
       "      <td>45</td>\n",
       "      <td>&lt;p&gt;My requirement is that I have an xlsx workb...</td>\n",
       "      <td>19452662.0</td>\n",
       "      <td>19230181.0</td>\n",
       "      <td>2022-07-20 07:07:46</td>\n",
       "      <td>2022-07-20 07:07:46</td>\n",
       "      <td>How to pass data from an xlsx to another code ...</td>\n",
       "      <td>&lt;python&gt;&lt;excel&gt;&lt;data-science&gt;</td>\n",
       "      <td>0</td>\n",
       "      <td>1</td>\n",
       "      <td>N/A</td>\n",
       "      <td>CC BY-SA 4.0</td>\n",
       "    </tr>\n",
       "    <tr>\n",
       "      <th>3</th>\n",
       "      <td>72243463</td>\n",
       "      <td>1</td>\n",
       "      <td>-1.0</td>\n",
       "      <td>2022-05-14 19:55:19</td>\n",
       "      <td>0</td>\n",
       "      <td>251</td>\n",
       "      <td>&lt;p&gt;I have two datasets that are collected at d...</td>\n",
       "      <td>8753176.0</td>\n",
       "      <td>-1.0</td>\n",
       "      <td>N/A</td>\n",
       "      <td>2022-09-16 21:15:32</td>\n",
       "      <td>how to align sliding window to extract feature...</td>\n",
       "      <td>&lt;python&gt;&lt;machine-learning&gt;&lt;statistics&gt;&lt;data-sc...</td>\n",
       "      <td>1</td>\n",
       "      <td>1</td>\n",
       "      <td>N/A</td>\n",
       "      <td>CC BY-SA 4.0</td>\n",
       "    </tr>\n",
       "    <tr>\n",
       "      <th>4</th>\n",
       "      <td>72243721</td>\n",
       "      <td>1</td>\n",
       "      <td>72244080.0</td>\n",
       "      <td>2022-05-14 20:41:51</td>\n",
       "      <td>0</td>\n",
       "      <td>26</td>\n",
       "      <td>&lt;p&gt;I am learning pandas and Data Science and a...</td>\n",
       "      <td>9918947.0</td>\n",
       "      <td>11865956.0</td>\n",
       "      <td>2022-05-14 20:48:32</td>\n",
       "      <td>2022-05-14 21:46:21</td>\n",
       "      <td>How to get this single column data into data f...</td>\n",
       "      <td>&lt;python&gt;&lt;pandas&gt;&lt;dataframe&gt;&lt;data-science&gt;</td>\n",
       "      <td>1</td>\n",
       "      <td>0</td>\n",
       "      <td>N/A</td>\n",
       "      <td>CC BY-SA 4.0</td>\n",
       "    </tr>\n",
       "  </tbody>\n",
       "</table>\n",
       "</div>"
      ],
      "text/plain": [
       "         Id  PostTypeId  AcceptedAnswerId         CreationDate  Score  \\\n",
       "0  71911980           1              -1.0  2022-04-18 12:44:51      0   \n",
       "1  71482445           1              -1.0  2022-03-15 12:42:56      0   \n",
       "2  73047143           1              -1.0  2022-07-20 06:53:51      1   \n",
       "3  72243463           1              -1.0  2022-05-14 19:55:19      0   \n",
       "4  72243721           1        72244080.0  2022-05-14 20:41:51      0   \n",
       "\n",
       "   ViewCount                                               Body  OwnerUserId  \\\n",
       "0        368  <p>Everything in my code is working well, unti...    6542807.0   \n",
       "1        512  <p>For example:</p>\\n<h2>dataframe A</h2>\\n<di...   18472617.0   \n",
       "2         45  <p>My requirement is that I have an xlsx workb...   19452662.0   \n",
       "3        251  <p>I have two datasets that are collected at d...    8753176.0   \n",
       "4         26  <p>I am learning pandas and Data Science and a...    9918947.0   \n",
       "\n",
       "   LastEditorUserId         LastEditDate     LastActivityDate  \\\n",
       "0         6542807.0  2022-04-18 17:16:12  2022-04-18 17:16:12   \n",
       "1         9840637.0  2022-03-15 12:51:33  2022-03-15 16:10:09   \n",
       "2        19230181.0  2022-07-20 07:07:46  2022-07-20 07:07:46   \n",
       "3              -1.0                  N/A  2022-09-16 21:15:32   \n",
       "4        11865956.0  2022-05-14 20:48:32  2022-05-14 21:46:21   \n",
       "\n",
       "                                               Title  \\\n",
       "0                        ValueError on KNN in Python   \n",
       "1  How to multiply two pyspark dataframes element...   \n",
       "2  How to pass data from an xlsx to another code ...   \n",
       "3  how to align sliding window to extract feature...   \n",
       "4  How to get this single column data into data f...   \n",
       "\n",
       "                                                Tags  AnswerCount  \\\n",
       "0                        <python><data-science><knn>            0   \n",
       "1                    <python><pyspark><data-science>            2   \n",
       "2                      <python><excel><data-science>            0   \n",
       "3  <python><machine-learning><statistics><data-sc...            1   \n",
       "4          <python><pandas><dataframe><data-science>            1   \n",
       "\n",
       "   CommentCount ClosedDate ContentLicense  \n",
       "0             6        N/A   CC BY-SA 4.0  \n",
       "1             2        N/A   CC BY-SA 4.0  \n",
       "2             1        N/A   CC BY-SA 4.0  \n",
       "3             1        N/A   CC BY-SA 4.0  \n",
       "4             0        N/A   CC BY-SA 4.0  "
      ]
     },
     "execution_count": 11,
     "metadata": {},
     "output_type": "execute_result"
    }
   ],
   "source": [
    "df.head()"
   ]
  },
  {
   "cell_type": "code",
   "execution_count": 12,
   "id": "e28f5b8c",
   "metadata": {},
   "outputs": [
    {
     "name": "stdout",
     "output_type": "stream",
     "text": [
      "<class 'pandas.core.frame.DataFrame'>\n",
      "RangeIndex: 1475 entries, 0 to 1474\n",
      "Data columns (total 17 columns):\n",
      " #   Column            Non-Null Count  Dtype  \n",
      "---  ------            --------------  -----  \n",
      " 0   Id                1475 non-null   int64  \n",
      " 1   PostTypeId        1475 non-null   int64  \n",
      " 2   AcceptedAnswerId  1475 non-null   float64\n",
      " 3   CreationDate      1475 non-null   object \n",
      " 4   Score             1475 non-null   int64  \n",
      " 5   ViewCount         1475 non-null   int64  \n",
      " 6   Body              1475 non-null   object \n",
      " 7   OwnerUserId       1475 non-null   float64\n",
      " 8   LastEditorUserId  1475 non-null   float64\n",
      " 9   LastEditDate      1475 non-null   object \n",
      " 10  LastActivityDate  1475 non-null   object \n",
      " 11  Title             1475 non-null   object \n",
      " 12  Tags              1475 non-null   object \n",
      " 13  AnswerCount       1475 non-null   int64  \n",
      " 14  CommentCount      1475 non-null   int64  \n",
      " 15  ClosedDate        1475 non-null   object \n",
      " 16  ContentLicense    1475 non-null   object \n",
      "dtypes: float64(3), int64(6), object(8)\n",
      "memory usage: 196.0+ KB\n"
     ]
    }
   ],
   "source": [
    "df.info()"
   ]
  },
  {
   "cell_type": "code",
   "execution_count": 13,
   "id": "3381c0dd",
   "metadata": {},
   "outputs": [],
   "source": [
    "df.to_csv('QueryCleaned.csv', index=False)"
   ]
  },
  {
   "cell_type": "markdown",
   "id": "0d43b858",
   "metadata": {},
   "source": [
    "## Inverted Indexing"
   ]
  },
  {
   "cell_type": "code",
   "execution_count": 14,
   "id": "2cde128f",
   "metadata": {},
   "outputs": [],
   "source": [
    "df2 = df[['Id','Tags']]"
   ]
  },
  {
   "cell_type": "code",
   "execution_count": 15,
   "id": "1643a0f8",
   "metadata": {},
   "outputs": [
    {
     "data": {
      "text/html": [
       "<div>\n",
       "<style scoped>\n",
       "    .dataframe tbody tr th:only-of-type {\n",
       "        vertical-align: middle;\n",
       "    }\n",
       "\n",
       "    .dataframe tbody tr th {\n",
       "        vertical-align: top;\n",
       "    }\n",
       "\n",
       "    .dataframe thead th {\n",
       "        text-align: right;\n",
       "    }\n",
       "</style>\n",
       "<table border=\"1\" class=\"dataframe\">\n",
       "  <thead>\n",
       "    <tr style=\"text-align: right;\">\n",
       "      <th></th>\n",
       "      <th>Id</th>\n",
       "      <th>Tags</th>\n",
       "    </tr>\n",
       "  </thead>\n",
       "  <tbody>\n",
       "    <tr>\n",
       "      <th>0</th>\n",
       "      <td>71911980</td>\n",
       "      <td>&lt;python&gt;&lt;data-science&gt;&lt;knn&gt;</td>\n",
       "    </tr>\n",
       "    <tr>\n",
       "      <th>1</th>\n",
       "      <td>71482445</td>\n",
       "      <td>&lt;python&gt;&lt;pyspark&gt;&lt;data-science&gt;</td>\n",
       "    </tr>\n",
       "    <tr>\n",
       "      <th>2</th>\n",
       "      <td>73047143</td>\n",
       "      <td>&lt;python&gt;&lt;excel&gt;&lt;data-science&gt;</td>\n",
       "    </tr>\n",
       "    <tr>\n",
       "      <th>3</th>\n",
       "      <td>72243463</td>\n",
       "      <td>&lt;python&gt;&lt;machine-learning&gt;&lt;statistics&gt;&lt;data-sc...</td>\n",
       "    </tr>\n",
       "    <tr>\n",
       "      <th>4</th>\n",
       "      <td>72243721</td>\n",
       "      <td>&lt;python&gt;&lt;pandas&gt;&lt;dataframe&gt;&lt;data-science&gt;</td>\n",
       "    </tr>\n",
       "  </tbody>\n",
       "</table>\n",
       "</div>"
      ],
      "text/plain": [
       "         Id                                               Tags\n",
       "0  71911980                        <python><data-science><knn>\n",
       "1  71482445                    <python><pyspark><data-science>\n",
       "2  73047143                      <python><excel><data-science>\n",
       "3  72243463  <python><machine-learning><statistics><data-sc...\n",
       "4  72243721          <python><pandas><dataframe><data-science>"
      ]
     },
     "execution_count": 15,
     "metadata": {},
     "output_type": "execute_result"
    }
   ],
   "source": [
    "df2.head()"
   ]
  },
  {
   "cell_type": "markdown",
   "id": "a7c4eb75",
   "metadata": {},
   "source": [
    "Now, We will create a string out of all tags for each post.\n",
    "\n",
    "From the previous format of '<tag1>,<tag2>,<tag3>...', We are changing it to the format: 'tag1 tag2 tag2 ...'"
   ]
  },
  {
   "cell_type": "code",
   "execution_count": 16,
   "id": "c0f930a5",
   "metadata": {},
   "outputs": [],
   "source": [
    "# run for cleaned data one\n",
    "def one_row_taglist(tags):\n",
    "    x=tags[1:-1]\n",
    "    l=x.split('><')\n",
    "    s=' '.join(l)\n",
    "    return s\n"
   ]
  },
  {
   "cell_type": "code",
   "execution_count": 17,
   "id": "c6ad5bd6",
   "metadata": {},
   "outputs": [
    {
     "name": "stderr",
     "output_type": "stream",
     "text": [
      "C:\\Users\\Sharadha\\AppData\\Local\\Temp\\ipykernel_14724\\3632913971.py:1: SettingWithCopyWarning: \n",
      "A value is trying to be set on a copy of a slice from a DataFrame.\n",
      "Try using .loc[row_indexer,col_indexer] = value instead\n",
      "\n",
      "See the caveats in the documentation: https://pandas.pydata.org/pandas-docs/stable/user_guide/indexing.html#returning-a-view-versus-a-copy\n",
      "  df2['taglist']=df2['Tags'].apply(one_row_taglist)\n"
     ]
    }
   ],
   "source": [
    "df2['taglist']=df2['Tags'].apply(one_row_taglist)"
   ]
  },
  {
   "cell_type": "code",
   "execution_count": 18,
   "id": "72d91ba4",
   "metadata": {},
   "outputs": [
    {
     "data": {
      "text/html": [
       "<div>\n",
       "<style scoped>\n",
       "    .dataframe tbody tr th:only-of-type {\n",
       "        vertical-align: middle;\n",
       "    }\n",
       "\n",
       "    .dataframe tbody tr th {\n",
       "        vertical-align: top;\n",
       "    }\n",
       "\n",
       "    .dataframe thead th {\n",
       "        text-align: right;\n",
       "    }\n",
       "</style>\n",
       "<table border=\"1\" class=\"dataframe\">\n",
       "  <thead>\n",
       "    <tr style=\"text-align: right;\">\n",
       "      <th></th>\n",
       "      <th>Id</th>\n",
       "      <th>Tags</th>\n",
       "      <th>taglist</th>\n",
       "    </tr>\n",
       "  </thead>\n",
       "  <tbody>\n",
       "    <tr>\n",
       "      <th>0</th>\n",
       "      <td>71911980</td>\n",
       "      <td>&lt;python&gt;&lt;data-science&gt;&lt;knn&gt;</td>\n",
       "      <td>python data-science knn</td>\n",
       "    </tr>\n",
       "    <tr>\n",
       "      <th>1</th>\n",
       "      <td>71482445</td>\n",
       "      <td>&lt;python&gt;&lt;pyspark&gt;&lt;data-science&gt;</td>\n",
       "      <td>python pyspark data-science</td>\n",
       "    </tr>\n",
       "    <tr>\n",
       "      <th>2</th>\n",
       "      <td>73047143</td>\n",
       "      <td>&lt;python&gt;&lt;excel&gt;&lt;data-science&gt;</td>\n",
       "      <td>python excel data-science</td>\n",
       "    </tr>\n",
       "    <tr>\n",
       "      <th>3</th>\n",
       "      <td>72243463</td>\n",
       "      <td>&lt;python&gt;&lt;machine-learning&gt;&lt;statistics&gt;&lt;data-sc...</td>\n",
       "      <td>python machine-learning statistics data-scienc...</td>\n",
       "    </tr>\n",
       "    <tr>\n",
       "      <th>4</th>\n",
       "      <td>72243721</td>\n",
       "      <td>&lt;python&gt;&lt;pandas&gt;&lt;dataframe&gt;&lt;data-science&gt;</td>\n",
       "      <td>python pandas dataframe data-science</td>\n",
       "    </tr>\n",
       "  </tbody>\n",
       "</table>\n",
       "</div>"
      ],
      "text/plain": [
       "         Id                                               Tags  \\\n",
       "0  71911980                        <python><data-science><knn>   \n",
       "1  71482445                    <python><pyspark><data-science>   \n",
       "2  73047143                      <python><excel><data-science>   \n",
       "3  72243463  <python><machine-learning><statistics><data-sc...   \n",
       "4  72243721          <python><pandas><dataframe><data-science>   \n",
       "\n",
       "                                             taglist  \n",
       "0                            python data-science knn  \n",
       "1                        python pyspark data-science  \n",
       "2                          python excel data-science  \n",
       "3  python machine-learning statistics data-scienc...  \n",
       "4               python pandas dataframe data-science  "
      ]
     },
     "execution_count": 18,
     "metadata": {},
     "output_type": "execute_result"
    }
   ],
   "source": [
    "df2.head()"
   ]
  },
  {
   "cell_type": "markdown",
   "id": "256767ee",
   "metadata": {},
   "source": [
    "We will now create a string out of postID and Taglist for that ID and saving this file.\n",
    "\n",
    "We want to achieve the format: 'PostID tag1 tag2 tag3...'"
   ]
  },
  {
   "cell_type": "code",
   "execution_count": 19,
   "id": "f436f5aa",
   "metadata": {},
   "outputs": [],
   "source": [
    "def id_taglist(row):\n",
    "    s=str(row[0])+\" \" +row[2]\n",
    "    return s"
   ]
  },
  {
   "cell_type": "code",
   "execution_count": 20,
   "id": "7e2dbd22",
   "metadata": {},
   "outputs": [],
   "source": [
    "df3 = df2.apply(id_taglist,axis=1)\n"
   ]
  },
  {
   "cell_type": "code",
   "execution_count": 21,
   "id": "4ecdc5ad",
   "metadata": {},
   "outputs": [
    {
     "data": {
      "text/plain": [
       "0                     71911980 python data-science knn\n",
       "1                 71482445 python pyspark data-science\n",
       "2                   73047143 python excel data-science\n",
       "3    72243463 python machine-learning statistics da...\n",
       "4        72243721 python pandas dataframe data-science\n",
       "dtype: object"
      ]
     },
     "execution_count": 21,
     "metadata": {},
     "output_type": "execute_result"
    }
   ],
   "source": [
    "df3.head()"
   ]
  },
  {
   "cell_type": "code",
   "execution_count": 22,
   "id": "a10fbd3f",
   "metadata": {},
   "outputs": [],
   "source": [
    "#Saving the cleaned data to use for MapReduce\n",
    "df3.to_csv('cleaned_data.txt',index=False)"
   ]
  },
  {
   "cell_type": "markdown",
   "id": "d88fd389",
   "metadata": {},
   "source": [
    "We now have the required format for MapReduce."
   ]
  },
  {
   "cell_type": "markdown",
   "id": "fcd4fcf3",
   "metadata": {},
   "source": [
    "### MapReduce"
   ]
  },
  {
   "cell_type": "code",
   "execution_count": 23,
   "id": "76cca761",
   "metadata": {},
   "outputs": [],
   "source": [
    "import findspark"
   ]
  },
  {
   "cell_type": "code",
   "execution_count": 24,
   "id": "1a6a9428",
   "metadata": {},
   "outputs": [
    {
     "data": {
      "text/plain": [
       "'C:\\\\Users\\\\Sharadha\\\\Desktop\\\\spark-3.0.0-bin-hadoop2.7'"
      ]
     },
     "execution_count": 24,
     "metadata": {},
     "output_type": "execute_result"
    }
   ],
   "source": [
    "#Finding the path for findspark\n",
    "findspark.init()\n",
    "findspark.find()"
   ]
  },
  {
   "cell_type": "code",
   "execution_count": 25,
   "id": "c361c978",
   "metadata": {},
   "outputs": [],
   "source": [
    "\n",
    "findspark.init('C:\\\\Users\\\\Sharadha\\\\Desktop\\\\spark-3.0.0-bin-hadoop2.7')\n",
    "\n",
    "import pyspark\n",
    "sc = pyspark.SparkContext(appName=\"inverted_index\")"
   ]
  },
  {
   "cell_type": "code",
   "execution_count": 26,
   "id": "b89d52c1",
   "metadata": {},
   "outputs": [],
   "source": [
    "#Loading cleaned text file\n",
    "txt_file = sc.textFile(\"cleaned_data.txt\")"
   ]
  },
  {
   "cell_type": "code",
   "execution_count": 27,
   "id": "45ee2406",
   "metadata": {},
   "outputs": [
    {
     "data": {
      "text/plain": [
       "True"
      ]
     },
     "execution_count": 27,
     "metadata": {},
     "output_type": "execute_result"
    }
   ],
   "source": [
    "#Checking if RDD instance loaded successfully \n",
    "from pyspark.rdd import RDD\n",
    "isinstance(txt_file, RDD)"
   ]
  },
  {
   "cell_type": "code",
   "execution_count": 28,
   "id": "5c148e8e",
   "metadata": {},
   "outputs": [
    {
     "data": {
      "text/plain": [
       "['0',\n",
       " '71911980 python data-science knn',\n",
       " '71482445 python pyspark data-science',\n",
       " '73047143 python excel data-science',\n",
       " '72243463 python machine-learning statistics data-science feature-extraction']"
      ]
     },
     "execution_count": 28,
     "metadata": {},
     "output_type": "execute_result"
    }
   ],
   "source": [
    "#Taking a look at the data\n",
    "txt_file.take(5)"
   ]
  },
  {
   "cell_type": "markdown",
   "id": "0ff57699",
   "metadata": {},
   "source": [
    "It looks like we have an unwanted line '0' as the header. Let's remove it.."
   ]
  },
  {
   "cell_type": "code",
   "execution_count": 29,
   "id": "408eb0f3",
   "metadata": {},
   "outputs": [],
   "source": [
    "header = txt_file.first()\n",
    "txt_file=txt_file.filter(lambda row: row != header)"
   ]
  },
  {
   "cell_type": "code",
   "execution_count": 30,
   "id": "f8ee0bce",
   "metadata": {},
   "outputs": [
    {
     "data": {
      "text/plain": [
       "['71911980 python data-science knn',\n",
       " '71482445 python pyspark data-science',\n",
       " '73047143 python excel data-science',\n",
       " '72243463 python machine-learning statistics data-science feature-extraction',\n",
       " '72243721 python pandas dataframe data-science']"
      ]
     },
     "execution_count": 30,
     "metadata": {},
     "output_type": "execute_result"
    }
   ],
   "source": [
    "txt_file.take(5)"
   ]
  },
  {
   "cell_type": "markdown",
   "id": "5c7e4994",
   "metadata": {},
   "source": [
    "Now that we have the data in the required format, we will make each line of text a list instead of a string. To do this we will use the split() function inside the map() function."
   ]
  },
  {
   "cell_type": "code",
   "execution_count": 31,
   "id": "67e5f44d",
   "metadata": {},
   "outputs": [],
   "source": [
    "word_list = txt_file.map(lambda x: x.split()) "
   ]
  },
  {
   "cell_type": "markdown",
   "id": "11b85a8d",
   "metadata": {},
   "source": [
    "Now, we will have a list of lists.\n",
    "\n",
    "Each list will be in the format: ['PostID' , 'tag1' , 'tag2' , 'tag3'...]"
   ]
  },
  {
   "cell_type": "code",
   "execution_count": 32,
   "id": "1e33afe9",
   "metadata": {},
   "outputs": [
    {
     "data": {
      "text/plain": [
       "[['71911980', 'python', 'data-science', 'knn'],\n",
       " ['71482445', 'python', 'pyspark', 'data-science'],\n",
       " ['73047143', 'python', 'excel', 'data-science'],\n",
       " ['72243463',\n",
       "  'python',\n",
       "  'machine-learning',\n",
       "  'statistics',\n",
       "  'data-science',\n",
       "  'feature-extraction'],\n",
       " ['72243721', 'python', 'pandas', 'dataframe', 'data-science']]"
      ]
     },
     "execution_count": 32,
     "metadata": {},
     "output_type": "execute_result"
    }
   ],
   "source": [
    "word_list.take(5)"
   ]
  },
  {
   "cell_type": "markdown",
   "id": "acc4e936",
   "metadata": {},
   "source": [
    "We will now use the flatMap function, and create our own function that maps each tag to be a tuple of (tag , PostID)\n",
    "\n",
    "#### MAP FUNCTION"
   ]
  },
  {
   "cell_type": "code",
   "execution_count": 33,
   "id": "ee1def2d",
   "metadata": {},
   "outputs": [],
   "source": [
    "#creating our own mapping function to return tuple\n",
    "def the_map_function(l):\n",
    "    id=int(l[0])\n",
    "    l.pop(0)\n",
    "    lst=[]\n",
    "    for x in l:\n",
    "        lst.append((x,id))\n",
    "    return lst\n",
    "        \n",
    "    "
   ]
  },
  {
   "cell_type": "code",
   "execution_count": 34,
   "id": "3988de41",
   "metadata": {},
   "outputs": [],
   "source": [
    "word_tuple = word_list.flatMap(the_map_function)"
   ]
  },
  {
   "cell_type": "code",
   "execution_count": 35,
   "id": "dca40030",
   "metadata": {},
   "outputs": [
    {
     "data": {
      "text/plain": [
       "[('python', 71911980),\n",
       " ('data-science', 71911980),\n",
       " ('knn', 71911980),\n",
       " ('python', 71482445),\n",
       " ('pyspark', 71482445)]"
      ]
     },
     "execution_count": 35,
     "metadata": {},
     "output_type": "execute_result"
    }
   ],
   "source": [
    "#viewing the data\n",
    "word_tuple.take(5)\n"
   ]
  },
  {
   "cell_type": "code",
   "execution_count": 36,
   "id": "cbda224f",
   "metadata": {},
   "outputs": [],
   "source": [
    "word_tuple.saveAsTextFile('WordTuple.txt')"
   ]
  },
  {
   "cell_type": "markdown",
   "id": "333df1ad",
   "metadata": {},
   "source": [
    "We have now successfully mapped each tag to associated ID. We have achieved a (key , value) format with (tag , PostID)\n",
    "\n",
    "Next step: Reduce!"
   ]
  },
  {
   "cell_type": "markdown",
   "id": "dd0a1c57",
   "metadata": {},
   "source": [
    "#### REDUCE FUNCTION"
   ]
  },
  {
   "cell_type": "markdown",
   "id": "21105fe6",
   "metadata": {},
   "source": [
    "The reduce function will use the (key , value) pairs achieved during mapping and use the reduceByKey function to achieve the following:\n",
    "\n",
    "For each key, concatenate all values found into a string."
   ]
  },
  {
   "cell_type": "code",
   "execution_count": 37,
   "id": "337debea",
   "metadata": {},
   "outputs": [],
   "source": [
    "inverted_index = word_tuple.reduceByKey(lambda x, y: \"{} {}\".format(x, y))"
   ]
  },
  {
   "cell_type": "code",
   "execution_count": 38,
   "id": "dfd57dd3",
   "metadata": {},
   "outputs": [
    {
     "data": {
      "text/plain": [
       "[('python',\n",
       "  '71911980 71482445 73047143 72243463 72243721 72251266 72252860 72252897 72259217 73046568 72248377 72278557 72282419 72296566 72249726 72286029 72305273 72283924 72310049 72310137 72301027 72304256 72307807 72324363 72325388 72325479 72298797 72341470 72355804 72356040 72384390 72399746 72338056 72404872 72416845 72419624 72368195 72427016 72430664 72434568 72434724 72420958 72423061 72432133 72442231 72444905 72456849 72467117 72474074 72367187 72369489 72369658 72376953 72388656 72391728 72422832 72474673 72455760 72475759 72446219 72481189 72480653 72483747 72474782 72486049 72507560 72508521 72511575 72513907 72490941 72506748 72507450 72509635 72533096 72535088 72538931 72542980 72552953 72564197 72540377 72588238 72516868 72536386 72558119 72590584 72559616 72569379 72593460 72574827 72599857 72610247 72616131 72630419 72633821 72636432 72669191 72671000 72644394 72658009 72659580 72669547 72652568 72658780 72664099 72675983 72656719 72680592 72681628 72690449 72705022 72706415 72706589 72706598 72707109 72722355 72740480 72732021 72758004 72764454 72675020 72742435 72765056 72772472 72775333 72776073 72732599 72770507 72776921 72800373 72781248 70556372 72804674 72807824 70562768 72819212 73914765 70578172 70579743 73931848 73949023 70588013 73955395 70546522 72784962 73916972 73969723 73955719 73976957 73943975 73967796 70620467 70616759 70616785 70621605 70601090 73970907 70620157 70625147 74006076 70632395 73999482 73999494 70633347 70636513 70636678 74022832 74000163 74001352 74015191 74023456 70626880 74014567 70656302 74026782 74030658 74052198 74054226 74062433 74057850 74077210 70675944 74081015 70681490 74085472 70684084 74089984 74098485 74024710 74090460 70689359 74100095 70660666 74063122 74088490 74087059 74089585 74097863 74108504 70697979 70698444 74117905 74134237 74136518 70712114 70712175 74140028 74117995 74113010 74119307 74126213 74144813 74109097 74142259 74142304 74148534 70719615 74170826 74173003 74185067 74150666 74166291 74193648 70744256 74177881 74186607 74200345 74171353 70746551 70748516 74212709 74226055 74213176 70757202 74221787 74230740 74222506 74233909 74236261 71486471 74241047 74230856 74238871 71488661 71491847 74187497 70750724 74211314 74248004 74247128 74270985 71508265 74281224 71497908 74259141 74297283 74295038 71530121 71530946 71502342 74288691 71534239 74296739 74304188 71538418 71539821 74311522 74312475 74309426 74310659 74311707 71545326 74312830 71544762 70769606 74320529 71569134 71589917 71549183 71565780 70775344 72820094 72820886 71592793 71601370 71605354 71607529 71604538 74329144 71606863 71607966 71608038 71609657 71616676 71570565 71594551 71595945 71607789 74330003 71624652 71616951 71620892 71626366 74339180 71628260 71628304 71627658 74348608 71634343 71636236 71639825 74355028 71628546 71635814 74350952 71635617 74352490 71642254 74357991 71646907 74367461 71648626 74368519 74368090 71656799 74338808 71621791 71621984 71629260 74355361 74373884 74375757 74379996 74367617 71653739 74375400 74394252 71668827 74384561 74397280 74370440 71658431 74374836 74398053 74398311 74413899 74426736 74395200 74419049 71686482 74425266 74441842 74415739 74424083 74428514 74445086 74430924 74447277 71695495 71686545 74448186 74464863 74465477 71695974 74464301 74468471 74462791 74484066 71706108 74465808 74478602 74491145 71699098 74468763 74492647 74493144 74497166 74497195 71715619 71696782 74508246 71717732 74494441 74510597 74511256 74524671 74495142 74499347 71723880 74532943 74536456 74545006 74545933 74545960 74546695 74526777 74527084 71729537 71729780 74577402 71740221 74555843 74561497 74596952 74601457 74581517 71743902 74603450 70791403 70795029 70803628 71740225 70804076 70810857 70821846 70909861 70911236 70837432 70843948 70867036 70915709 70920394 70831764 70865699 70873010 70937066 70923994 70924010 70938625 70945594 70974147 70955855 70972821 70982112 71026019 71052648 70915045 70919818 71044764 71013762 71073257 71076844 71080383 71088040 71054166 71069734 71094459 71103796 71111019 71119326 71120944 71121104 71123454 71119984 71031361 71085896 71101956 71144912 71147093 71149737 71142746 71918984 71128709 71138242 71148779 71915742 71941260 71919898 71955753 71960613 71974438 71917792 71924056 71936723 71959971 71976360 71958210 71958283 71975236 72005875 71993019 71997293 72004956 72013546 72021709 72025373 72029440 72030012 72033765 72041293 71982025 71994719 72012320 72046074 72046819 72016494 72027961 72053739 71990419 72022441 72030718 72055788 72068580 72079973 72072506 72096379 72100135 72100586 72109778 72123229 72131241 72101295 72134294 72138359 72062475 72070367 72105705 72140069 72095659 72141358 72164599 72157515 72155142 72158678 72171205 72174950 72176655 72188059 72199969 72203805 72170082 72183414 72218136 72200573 72212341 72217485 72221986 72206460 72211153 72229631 72219528 72219542 73054567 73052929 73065674 73065972 73060055 73052682 73081631 73088018 73083132 73088340 73084338 73091762 73106971 73107018 73109421 73114040 73115367 73078231 73118611 73091067 73120668 73121009 73094874 73101496 73108275 73149464 73174875 73128321 73174520 73179954 73190014 73158095 73210803 73216470 73159420 73165936 73255821 73248114 73256365 73266721 73277236 73232044 73267037 73272021 73280153 73175062 73190393 73196084 73272953 73278939 73284029 73281050 73290699 73301384 73278108 73280368 73291022 73312085 73275061 73280535 73315604 73327979 73323697 73292420 73311419 73355617 73357418 73361906 73330887 73331660 73334426 73371556 73376951 73403908 73364771 73367381 73391902 73409402 73419965 73398349 73425988 73433862 73443407 73450834 73424300 73442045 73451207 73431793 73457346 73460398 73460795 73468144 73470973 73479303 73499815 73515277 73515466 73485731 73509591 73521979 73516000 73531855 73491390 73503944 73556668 73562112 73533732 73558002 73525464 73527518 73549651 73574484 73608360 73615372 73627993 73634847 73640609 73646475 73612523 73636723 73536690 73569197 73575439 73652259 73676886 73661570 73671880 73676022 73676566 73576037 73635643 73679809 73679893 73686905 73701361 73703355 73737340 73743471 73717846 73747170 73750909 73708204 73724397 73707311 73714373 73755863 73759136 73776248 73776655 73771761 73789655 73796359 73788546 73830999 73838068 73805083 73826830 73851229 73864454 73868794 73897472 73857858 73867969 73870639 73910367 73803236 73886664 71156615 71156668 73862661 73883591 73900116 71155567 71163113 71170441 71160647 73913138 71179543 71176019 71178313 71180077 71154201 71190539 71189765 71213488 71156801 71160212 71191987 71221354 71207186 71209468 71229653 71213550 71223167 71229858 71232311 71232797 71242873 71268657 71278935 71280145 71272299 71280683 71258744 71275433 71283626 71289730 71279545 71284572 71301537 71305033 71321221 71296769 71306034 71323687 71335161 71335230 71336374 71338701 71310069 71311169 71325832 71341766 71301864 71320598 71359323 71363525 71397110 71359837 71381262 71407066 71407666 71417338 71404802 71423965 71400211 71413932 71423348 71454802 71425483 71435589 71457034 71409582 71420482 71430645 71466300 74618290 74621189 74617602 74617679 74632631 74643176 71762251 71455436 71464193 71760048 74644592 71767223 71767491 71768892 74662308 74651022 74651077 71767733 74662109 74666280 74668460 74677040 74677451 74662799 74672338 71778635 71769540 74667345 74671443 74691393 74683288 74688095 71781773 74698666 74702124 74707126 74685616 74704230 74707842 74708259 71788199 74709037 74718879 74723291 71796390 74723908 74724904 74737053 74725071 74725653 74729470 74738205 71804910 71817700 71811153 71811374 71814174 71826115 71835889 71850187 71855308 74745386 74747082 71837774 71854467 71799347 71828461 71843174 71851592 71864019 71862078 71873793 71873810 71887519 71872238 71885888 72827563 71834253 71847351 71847542 72827876 72831277 71869607 72852858 71889338 72830100 72853572 72866451 72861930 72862539 72884634 72887820 72835752 72835883 72870821 72893719 72889811 72894922 72899066 72902448 72893026 72903381 72928972 72932768 72921024 72923865 72935959 72906923 72943778 72943817 72948209 72949405 72936261 72936682 72955632 72868341 72898611 72957829 72969835 72984094 72987843 72953840 72976488 72996952 72988186 72986245 73004959 72996550 73004755 73014037 73023075 73036117 73022027 73025693 73038957 73040621 70786248 71891029 71890943 71893337 71894188 74771579 74786186 74786686 74786810 74793086 74788481 74794770 74795298 74791338 74799089 74795623 74796361 74803010 74789876 74790294 74803720 74811497 74793282 74801775 74824266 74824860 74814114 74827956 74828103 74828255 74828686 74835341 74813673 74821265 74833767 74831491 74844395 74829836 74835683 74843126 74843702 74861755 74861827 74863870 74860609 74860662 74867704 74885479 74887601 74893906 74901614 74893218 74908086 74866878 74888969 74896493 74903336 74904822 74875388 74906232 74906851 74921189 74921884 74908952 74933606 74908128 74924763 74931141 74932736 74929470 74937376 74927978 74934950 74935467 74946132 74966373 74966513 74947287 74948199 74955875 74959530 74968842 74954392 74954492')]"
      ]
     },
     "execution_count": 38,
     "metadata": {},
     "output_type": "execute_result"
    }
   ],
   "source": [
    "inverted_index.take(1)"
   ]
  },
  {
   "cell_type": "markdown",
   "id": "f242cdb7",
   "metadata": {},
   "source": [
    "We have achieved our inverted indices.\n",
    "\n",
    "We have them in the (key , value) format as follows: ('tag' , 'PostID1 PostID2 PostID3 PostID4.......')\n",
    "\n",
    "Let's save our result into a text file."
   ]
  },
  {
   "cell_type": "code",
   "execution_count": 39,
   "id": "58eb58c8",
   "metadata": {},
   "outputs": [],
   "source": [
    "inverted_index.saveAsTextFile('Inverted_index.txt')"
   ]
  },
  {
   "cell_type": "code",
   "execution_count": null,
   "id": "e0b2811f",
   "metadata": {},
   "outputs": [],
   "source": []
  }
 ],
 "metadata": {
  "kernelspec": {
   "display_name": "Python 3 (ipykernel)",
   "language": "python",
   "name": "python3"
  },
  "language_info": {
   "codemirror_mode": {
    "name": "ipython",
    "version": 3
   },
   "file_extension": ".py",
   "mimetype": "text/x-python",
   "name": "python",
   "nbconvert_exporter": "python",
   "pygments_lexer": "ipython3",
   "version": "3.10.4"
  }
 },
 "nbformat": 4,
 "nbformat_minor": 5
}
