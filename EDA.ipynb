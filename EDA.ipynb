{
 "cells": [
  {
   "cell_type": "markdown",
   "id": "a1f20814",
   "metadata": {},
   "source": [
    "## Loading in both data files\n",
    "\n",
    "1. All posts data"
   ]
  },
  {
   "cell_type": "code",
   "execution_count": 48,
   "id": "94d9fb6d",
   "metadata": {},
   "outputs": [],
   "source": [
    "import pandas as pd"
   ]
  },
  {
   "cell_type": "code",
   "execution_count": 49,
   "id": "9b87bd41",
   "metadata": {},
   "outputs": [],
   "source": [
    "df=pd.read_csv('QueryCleaned.csv')"
   ]
  },
  {
   "cell_type": "code",
   "execution_count": 50,
   "id": "6426c013",
   "metadata": {},
   "outputs": [
    {
     "data": {
      "text/html": [
       "<div>\n",
       "<style scoped>\n",
       "    .dataframe tbody tr th:only-of-type {\n",
       "        vertical-align: middle;\n",
       "    }\n",
       "\n",
       "    .dataframe tbody tr th {\n",
       "        vertical-align: top;\n",
       "    }\n",
       "\n",
       "    .dataframe thead th {\n",
       "        text-align: right;\n",
       "    }\n",
       "</style>\n",
       "<table border=\"1\" class=\"dataframe\">\n",
       "  <thead>\n",
       "    <tr style=\"text-align: right;\">\n",
       "      <th></th>\n",
       "      <th>Id</th>\n",
       "      <th>PostTypeId</th>\n",
       "      <th>AcceptedAnswerId</th>\n",
       "      <th>CreationDate</th>\n",
       "      <th>Score</th>\n",
       "      <th>ViewCount</th>\n",
       "      <th>Body</th>\n",
       "      <th>OwnerUserId</th>\n",
       "      <th>LastEditorUserId</th>\n",
       "      <th>LastEditDate</th>\n",
       "      <th>LastActivityDate</th>\n",
       "      <th>Title</th>\n",
       "      <th>Tags</th>\n",
       "      <th>AnswerCount</th>\n",
       "      <th>CommentCount</th>\n",
       "      <th>ClosedDate</th>\n",
       "      <th>ContentLicense</th>\n",
       "    </tr>\n",
       "  </thead>\n",
       "  <tbody>\n",
       "    <tr>\n",
       "      <th>0</th>\n",
       "      <td>71911980</td>\n",
       "      <td>1</td>\n",
       "      <td>-1.0</td>\n",
       "      <td>2022-04-18 12:44:51</td>\n",
       "      <td>0</td>\n",
       "      <td>368</td>\n",
       "      <td>&lt;p&gt;Everything in my code is working well, unti...</td>\n",
       "      <td>6542807.0</td>\n",
       "      <td>6542807.0</td>\n",
       "      <td>2022-04-18 17:16:12</td>\n",
       "      <td>2022-04-18 17:16:12</td>\n",
       "      <td>ValueError on KNN in Python</td>\n",
       "      <td>&lt;python&gt;&lt;data-science&gt;&lt;knn&gt;</td>\n",
       "      <td>0</td>\n",
       "      <td>6</td>\n",
       "      <td>NaN</td>\n",
       "      <td>CC BY-SA 4.0</td>\n",
       "    </tr>\n",
       "    <tr>\n",
       "      <th>1</th>\n",
       "      <td>71482445</td>\n",
       "      <td>1</td>\n",
       "      <td>-1.0</td>\n",
       "      <td>2022-03-15 12:42:56</td>\n",
       "      <td>0</td>\n",
       "      <td>512</td>\n",
       "      <td>&lt;p&gt;For example:&lt;/p&gt;\\n&lt;h2&gt;dataframe A&lt;/h2&gt;\\n&lt;di...</td>\n",
       "      <td>18472617.0</td>\n",
       "      <td>9840637.0</td>\n",
       "      <td>2022-03-15 12:51:33</td>\n",
       "      <td>2022-03-15 16:10:09</td>\n",
       "      <td>How to multiply two pyspark dataframes element...</td>\n",
       "      <td>&lt;python&gt;&lt;pyspark&gt;&lt;data-science&gt;</td>\n",
       "      <td>2</td>\n",
       "      <td>2</td>\n",
       "      <td>NaN</td>\n",
       "      <td>CC BY-SA 4.0</td>\n",
       "    </tr>\n",
       "    <tr>\n",
       "      <th>2</th>\n",
       "      <td>73047143</td>\n",
       "      <td>1</td>\n",
       "      <td>-1.0</td>\n",
       "      <td>2022-07-20 06:53:51</td>\n",
       "      <td>1</td>\n",
       "      <td>45</td>\n",
       "      <td>&lt;p&gt;My requirement is that I have an xlsx workb...</td>\n",
       "      <td>19452662.0</td>\n",
       "      <td>19230181.0</td>\n",
       "      <td>2022-07-20 07:07:46</td>\n",
       "      <td>2022-07-20 07:07:46</td>\n",
       "      <td>How to pass data from an xlsx to another code ...</td>\n",
       "      <td>&lt;python&gt;&lt;excel&gt;&lt;data-science&gt;</td>\n",
       "      <td>0</td>\n",
       "      <td>1</td>\n",
       "      <td>NaN</td>\n",
       "      <td>CC BY-SA 4.0</td>\n",
       "    </tr>\n",
       "    <tr>\n",
       "      <th>3</th>\n",
       "      <td>72243463</td>\n",
       "      <td>1</td>\n",
       "      <td>-1.0</td>\n",
       "      <td>2022-05-14 19:55:19</td>\n",
       "      <td>0</td>\n",
       "      <td>251</td>\n",
       "      <td>&lt;p&gt;I have two datasets that are collected at d...</td>\n",
       "      <td>8753176.0</td>\n",
       "      <td>-1.0</td>\n",
       "      <td>NaN</td>\n",
       "      <td>2022-09-16 21:15:32</td>\n",
       "      <td>how to align sliding window to extract feature...</td>\n",
       "      <td>&lt;python&gt;&lt;machine-learning&gt;&lt;statistics&gt;&lt;data-sc...</td>\n",
       "      <td>1</td>\n",
       "      <td>1</td>\n",
       "      <td>NaN</td>\n",
       "      <td>CC BY-SA 4.0</td>\n",
       "    </tr>\n",
       "    <tr>\n",
       "      <th>4</th>\n",
       "      <td>72243721</td>\n",
       "      <td>1</td>\n",
       "      <td>72244080.0</td>\n",
       "      <td>2022-05-14 20:41:51</td>\n",
       "      <td>0</td>\n",
       "      <td>26</td>\n",
       "      <td>&lt;p&gt;I am learning pandas and Data Science and a...</td>\n",
       "      <td>9918947.0</td>\n",
       "      <td>11865956.0</td>\n",
       "      <td>2022-05-14 20:48:32</td>\n",
       "      <td>2022-05-14 21:46:21</td>\n",
       "      <td>How to get this single column data into data f...</td>\n",
       "      <td>&lt;python&gt;&lt;pandas&gt;&lt;dataframe&gt;&lt;data-science&gt;</td>\n",
       "      <td>1</td>\n",
       "      <td>0</td>\n",
       "      <td>NaN</td>\n",
       "      <td>CC BY-SA 4.0</td>\n",
       "    </tr>\n",
       "  </tbody>\n",
       "</table>\n",
       "</div>"
      ],
      "text/plain": [
       "         Id  PostTypeId  AcceptedAnswerId         CreationDate  Score  \\\n",
       "0  71911980           1              -1.0  2022-04-18 12:44:51      0   \n",
       "1  71482445           1              -1.0  2022-03-15 12:42:56      0   \n",
       "2  73047143           1              -1.0  2022-07-20 06:53:51      1   \n",
       "3  72243463           1              -1.0  2022-05-14 19:55:19      0   \n",
       "4  72243721           1        72244080.0  2022-05-14 20:41:51      0   \n",
       "\n",
       "   ViewCount                                               Body  OwnerUserId  \\\n",
       "0        368  <p>Everything in my code is working well, unti...    6542807.0   \n",
       "1        512  <p>For example:</p>\\n<h2>dataframe A</h2>\\n<di...   18472617.0   \n",
       "2         45  <p>My requirement is that I have an xlsx workb...   19452662.0   \n",
       "3        251  <p>I have two datasets that are collected at d...    8753176.0   \n",
       "4         26  <p>I am learning pandas and Data Science and a...    9918947.0   \n",
       "\n",
       "   LastEditorUserId         LastEditDate     LastActivityDate  \\\n",
       "0         6542807.0  2022-04-18 17:16:12  2022-04-18 17:16:12   \n",
       "1         9840637.0  2022-03-15 12:51:33  2022-03-15 16:10:09   \n",
       "2        19230181.0  2022-07-20 07:07:46  2022-07-20 07:07:46   \n",
       "3              -1.0                  NaN  2022-09-16 21:15:32   \n",
       "4        11865956.0  2022-05-14 20:48:32  2022-05-14 21:46:21   \n",
       "\n",
       "                                               Title  \\\n",
       "0                        ValueError on KNN in Python   \n",
       "1  How to multiply two pyspark dataframes element...   \n",
       "2  How to pass data from an xlsx to another code ...   \n",
       "3  how to align sliding window to extract feature...   \n",
       "4  How to get this single column data into data f...   \n",
       "\n",
       "                                                Tags  AnswerCount  \\\n",
       "0                        <python><data-science><knn>            0   \n",
       "1                    <python><pyspark><data-science>            2   \n",
       "2                      <python><excel><data-science>            0   \n",
       "3  <python><machine-learning><statistics><data-sc...            1   \n",
       "4          <python><pandas><dataframe><data-science>            1   \n",
       "\n",
       "   CommentCount ClosedDate ContentLicense  \n",
       "0             6        NaN   CC BY-SA 4.0  \n",
       "1             2        NaN   CC BY-SA 4.0  \n",
       "2             1        NaN   CC BY-SA 4.0  \n",
       "3             1        NaN   CC BY-SA 4.0  \n",
       "4             0        NaN   CC BY-SA 4.0  "
      ]
     },
     "execution_count": 50,
     "metadata": {},
     "output_type": "execute_result"
    }
   ],
   "source": [
    "df.head()"
   ]
  },
  {
   "cell_type": "markdown",
   "id": "94421bf6",
   "metadata": {},
   "source": [
    "2. Inverted index data"
   ]
  },
  {
   "cell_type": "code",
   "execution_count": 51,
   "id": "75245be3",
   "metadata": {},
   "outputs": [
    {
     "name": "stdout",
     "output_type": "stream",
     "text": [
      "<class 'pandas.core.frame.DataFrame'>\n",
      "RangeIndex: 1475 entries, 0 to 1474\n",
      "Data columns (total 17 columns):\n",
      " #   Column            Non-Null Count  Dtype  \n",
      "---  ------            --------------  -----  \n",
      " 0   Id                1475 non-null   int64  \n",
      " 1   PostTypeId        1475 non-null   int64  \n",
      " 2   AcceptedAnswerId  1475 non-null   float64\n",
      " 3   CreationDate      1475 non-null   object \n",
      " 4   Score             1475 non-null   int64  \n",
      " 5   ViewCount         1475 non-null   int64  \n",
      " 6   Body              1475 non-null   object \n",
      " 7   OwnerUserId       1475 non-null   float64\n",
      " 8   LastEditorUserId  1475 non-null   float64\n",
      " 9   LastEditDate      757 non-null    object \n",
      " 10  LastActivityDate  1475 non-null   object \n",
      " 11  Title             1475 non-null   object \n",
      " 12  Tags              1475 non-null   object \n",
      " 13  AnswerCount       1475 non-null   int64  \n",
      " 14  CommentCount      1475 non-null   int64  \n",
      " 15  ClosedDate        79 non-null     object \n",
      " 16  ContentLicense    1475 non-null   object \n",
      "dtypes: float64(3), int64(6), object(8)\n",
      "memory usage: 196.0+ KB\n"
     ]
    }
   ],
   "source": [
    "df.info()"
   ]
  },
  {
   "cell_type": "code",
   "execution_count": 52,
   "id": "d5fe817b",
   "metadata": {},
   "outputs": [],
   "source": [
    "df['LastEditDate'].fillna(\"N/A\", inplace=True)"
   ]
  },
  {
   "cell_type": "code",
   "execution_count": 53,
   "id": "20399509",
   "metadata": {},
   "outputs": [],
   "source": [
    "df['ClosedDate'].fillna(\"N/A\", inplace=True)"
   ]
  },
  {
   "cell_type": "code",
   "execution_count": 54,
   "id": "9246e9b9",
   "metadata": {},
   "outputs": [
    {
     "name": "stdout",
     "output_type": "stream",
     "text": [
      "<class 'pandas.core.frame.DataFrame'>\n",
      "RangeIndex: 1475 entries, 0 to 1474\n",
      "Data columns (total 17 columns):\n",
      " #   Column            Non-Null Count  Dtype  \n",
      "---  ------            --------------  -----  \n",
      " 0   Id                1475 non-null   int64  \n",
      " 1   PostTypeId        1475 non-null   int64  \n",
      " 2   AcceptedAnswerId  1475 non-null   float64\n",
      " 3   CreationDate      1475 non-null   object \n",
      " 4   Score             1475 non-null   int64  \n",
      " 5   ViewCount         1475 non-null   int64  \n",
      " 6   Body              1475 non-null   object \n",
      " 7   OwnerUserId       1475 non-null   float64\n",
      " 8   LastEditorUserId  1475 non-null   float64\n",
      " 9   LastEditDate      1475 non-null   object \n",
      " 10  LastActivityDate  1475 non-null   object \n",
      " 11  Title             1475 non-null   object \n",
      " 12  Tags              1475 non-null   object \n",
      " 13  AnswerCount       1475 non-null   int64  \n",
      " 14  CommentCount      1475 non-null   int64  \n",
      " 15  ClosedDate        1475 non-null   object \n",
      " 16  ContentLicense    1475 non-null   object \n",
      "dtypes: float64(3), int64(6), object(8)\n",
      "memory usage: 196.0+ KB\n"
     ]
    }
   ],
   "source": [
    "df.info()"
   ]
  },
  {
   "cell_type": "code",
   "execution_count": 55,
   "id": "aa956a7b",
   "metadata": {},
   "outputs": [],
   "source": [
    "inv_df1 = pd.read_csv('Inverted_index.txt\\part-00000', sep=',', header=None)\n",
    "inv_df2 = pd.read_csv('Inverted_index.txt\\part-00001', sep=',', header=None)\n",
    "inv_df=pd.concat([inv_df1, inv_df2])"
   ]
  },
  {
   "cell_type": "code",
   "execution_count": 56,
   "id": "d0dca1d4",
   "metadata": {},
   "outputs": [
    {
     "data": {
      "text/html": [
       "<div>\n",
       "<style scoped>\n",
       "    .dataframe tbody tr th:only-of-type {\n",
       "        vertical-align: middle;\n",
       "    }\n",
       "\n",
       "    .dataframe tbody tr th {\n",
       "        vertical-align: top;\n",
       "    }\n",
       "\n",
       "    .dataframe thead th {\n",
       "        text-align: right;\n",
       "    }\n",
       "</style>\n",
       "<table border=\"1\" class=\"dataframe\">\n",
       "  <thead>\n",
       "    <tr style=\"text-align: right;\">\n",
       "      <th></th>\n",
       "      <th>0</th>\n",
       "      <th>1</th>\n",
       "    </tr>\n",
       "  </thead>\n",
       "  <tbody>\n",
       "    <tr>\n",
       "      <th>0</th>\n",
       "      <td>('python'</td>\n",
       "      <td>'71911980 71482445 73047143 72243463 72243721...</td>\n",
       "    </tr>\n",
       "    <tr>\n",
       "      <th>1</th>\n",
       "      <td>('data-science'</td>\n",
       "      <td>'71911980 71482445 73047143 72243463 72243721...</td>\n",
       "    </tr>\n",
       "    <tr>\n",
       "      <th>2</th>\n",
       "      <td>('machine-learning'</td>\n",
       "      <td>'72243463 72261434 72268164 72269625 72286029...</td>\n",
       "    </tr>\n",
       "    <tr>\n",
       "      <th>3</th>\n",
       "      <td>('pandas'</td>\n",
       "      <td>'72243721 72251266 72252860 72252897 72259212...</td>\n",
       "    </tr>\n",
       "    <tr>\n",
       "      <th>4</th>\n",
       "      <td>('moving-average'</td>\n",
       "      <td>72251266)</td>\n",
       "    </tr>\n",
       "  </tbody>\n",
       "</table>\n",
       "</div>"
      ],
      "text/plain": [
       "                     0                                                  1\n",
       "0            ('python'   '71911980 71482445 73047143 72243463 72243721...\n",
       "1      ('data-science'   '71911980 71482445 73047143 72243463 72243721...\n",
       "2  ('machine-learning'   '72243463 72261434 72268164 72269625 72286029...\n",
       "3            ('pandas'   '72243721 72251266 72252860 72252897 72259212...\n",
       "4    ('moving-average'                                          72251266)"
      ]
     },
     "execution_count": 56,
     "metadata": {},
     "output_type": "execute_result"
    }
   ],
   "source": [
    "inv_df.head()"
   ]
  },
  {
   "cell_type": "markdown",
   "id": "dbbd1d36",
   "metadata": {},
   "source": [
    "### Getting everything in the right format"
   ]
  },
  {
   "cell_type": "code",
   "execution_count": 57,
   "id": "882da76c",
   "metadata": {},
   "outputs": [],
   "source": [
    "inv_df.columns = ['Tag','Ids']"
   ]
  },
  {
   "cell_type": "code",
   "execution_count": 58,
   "id": "8a4edd8b",
   "metadata": {},
   "outputs": [
    {
     "data": {
      "text/html": [
       "<div>\n",
       "<style scoped>\n",
       "    .dataframe tbody tr th:only-of-type {\n",
       "        vertical-align: middle;\n",
       "    }\n",
       "\n",
       "    .dataframe tbody tr th {\n",
       "        vertical-align: top;\n",
       "    }\n",
       "\n",
       "    .dataframe thead th {\n",
       "        text-align: right;\n",
       "    }\n",
       "</style>\n",
       "<table border=\"1\" class=\"dataframe\">\n",
       "  <thead>\n",
       "    <tr style=\"text-align: right;\">\n",
       "      <th></th>\n",
       "      <th>Tag</th>\n",
       "      <th>Ids</th>\n",
       "    </tr>\n",
       "  </thead>\n",
       "  <tbody>\n",
       "    <tr>\n",
       "      <th>0</th>\n",
       "      <td>('python'</td>\n",
       "      <td>'71911980 71482445 73047143 72243463 72243721...</td>\n",
       "    </tr>\n",
       "    <tr>\n",
       "      <th>1</th>\n",
       "      <td>('data-science'</td>\n",
       "      <td>'71911980 71482445 73047143 72243463 72243721...</td>\n",
       "    </tr>\n",
       "    <tr>\n",
       "      <th>2</th>\n",
       "      <td>('machine-learning'</td>\n",
       "      <td>'72243463 72261434 72268164 72269625 72286029...</td>\n",
       "    </tr>\n",
       "    <tr>\n",
       "      <th>3</th>\n",
       "      <td>('pandas'</td>\n",
       "      <td>'72243721 72251266 72252860 72252897 72259212...</td>\n",
       "    </tr>\n",
       "    <tr>\n",
       "      <th>4</th>\n",
       "      <td>('moving-average'</td>\n",
       "      <td>72251266)</td>\n",
       "    </tr>\n",
       "  </tbody>\n",
       "</table>\n",
       "</div>"
      ],
      "text/plain": [
       "                   Tag                                                Ids\n",
       "0            ('python'   '71911980 71482445 73047143 72243463 72243721...\n",
       "1      ('data-science'   '71911980 71482445 73047143 72243463 72243721...\n",
       "2  ('machine-learning'   '72243463 72261434 72268164 72269625 72286029...\n",
       "3            ('pandas'   '72243721 72251266 72252860 72252897 72259212...\n",
       "4    ('moving-average'                                          72251266)"
      ]
     },
     "execution_count": 58,
     "metadata": {},
     "output_type": "execute_result"
    }
   ],
   "source": [
    "inv_df.head()"
   ]
  },
  {
   "cell_type": "code",
   "execution_count": 59,
   "id": "da70eccc",
   "metadata": {},
   "outputs": [],
   "source": [
    "def func1(text):\n",
    "    text=text[2:-1]\n",
    "    return text"
   ]
  },
  {
   "cell_type": "code",
   "execution_count": 60,
   "id": "654fe40c",
   "metadata": {},
   "outputs": [],
   "source": [
    "inv_df['Tag']=inv_df['Tag'].apply(func1)"
   ]
  },
  {
   "cell_type": "code",
   "execution_count": 61,
   "id": "cad1ac90",
   "metadata": {},
   "outputs": [],
   "source": [
    "def func2(text):\n",
    "    text=text[2:-2]\n",
    "    return text"
   ]
  },
  {
   "cell_type": "code",
   "execution_count": 62,
   "id": "1c6c3622",
   "metadata": {},
   "outputs": [],
   "source": [
    "inv_df['Ids']=inv_df['Ids'].apply(func2)"
   ]
  },
  {
   "cell_type": "code",
   "execution_count": 63,
   "id": "82a2d43a",
   "metadata": {},
   "outputs": [
    {
     "data": {
      "text/html": [
       "<div>\n",
       "<style scoped>\n",
       "    .dataframe tbody tr th:only-of-type {\n",
       "        vertical-align: middle;\n",
       "    }\n",
       "\n",
       "    .dataframe tbody tr th {\n",
       "        vertical-align: top;\n",
       "    }\n",
       "\n",
       "    .dataframe thead th {\n",
       "        text-align: right;\n",
       "    }\n",
       "</style>\n",
       "<table border=\"1\" class=\"dataframe\">\n",
       "  <thead>\n",
       "    <tr style=\"text-align: right;\">\n",
       "      <th></th>\n",
       "      <th>Tag</th>\n",
       "      <th>Ids</th>\n",
       "    </tr>\n",
       "  </thead>\n",
       "  <tbody>\n",
       "    <tr>\n",
       "      <th>0</th>\n",
       "      <td>python</td>\n",
       "      <td>71911980 71482445 73047143 72243463 72243721 7...</td>\n",
       "    </tr>\n",
       "    <tr>\n",
       "      <th>1</th>\n",
       "      <td>data-science</td>\n",
       "      <td>71911980 71482445 73047143 72243463 72243721 7...</td>\n",
       "    </tr>\n",
       "    <tr>\n",
       "      <th>2</th>\n",
       "      <td>machine-learning</td>\n",
       "      <td>72243463 72261434 72268164 72269625 72286029 7...</td>\n",
       "    </tr>\n",
       "    <tr>\n",
       "      <th>3</th>\n",
       "      <td>pandas</td>\n",
       "      <td>72243721 72251266 72252860 72252897 72259212 7...</td>\n",
       "    </tr>\n",
       "    <tr>\n",
       "      <th>4</th>\n",
       "      <td>moving-average</td>\n",
       "      <td>225126</td>\n",
       "    </tr>\n",
       "  </tbody>\n",
       "</table>\n",
       "</div>"
      ],
      "text/plain": [
       "                Tag                                                Ids\n",
       "0            python  71911980 71482445 73047143 72243463 72243721 7...\n",
       "1      data-science  71911980 71482445 73047143 72243463 72243721 7...\n",
       "2  machine-learning  72243463 72261434 72268164 72269625 72286029 7...\n",
       "3            pandas  72243721 72251266 72252860 72252897 72259212 7...\n",
       "4    moving-average                                             225126"
      ]
     },
     "execution_count": 63,
     "metadata": {},
     "output_type": "execute_result"
    }
   ],
   "source": [
    "inv_df.head()"
   ]
  },
  {
   "cell_type": "markdown",
   "id": "d2bdce2d",
   "metadata": {},
   "source": [
    "Checking if the Ids column has been converted to the desired format.."
   ]
  },
  {
   "cell_type": "code",
   "execution_count": 64,
   "id": "a6b0ca83",
   "metadata": {},
   "outputs": [
    {
     "data": {
      "text/plain": [
       "'72259217 74062433 74207648 71052648 71111019 71993019 72055788 73857858 72932768 72996550 73023075'"
      ]
     },
     "execution_count": 64,
     "metadata": {},
     "output_type": "execute_result"
    }
   ],
   "source": [
    "inv_df.iloc[8].Ids"
   ]
  },
  {
   "cell_type": "code",
   "execution_count": 65,
   "id": "6a72c02e",
   "metadata": {},
   "outputs": [],
   "source": [
    "def func3(text):\n",
    "    l = text.split()\n",
    "    l = list(map(int, l))\n",
    "    return l"
   ]
  },
  {
   "cell_type": "code",
   "execution_count": 66,
   "id": "5398837e",
   "metadata": {},
   "outputs": [],
   "source": [
    "inv_df['Ids']=inv_df['Ids'].apply(func3)"
   ]
  },
  {
   "cell_type": "code",
   "execution_count": 67,
   "id": "70ba4c3f",
   "metadata": {},
   "outputs": [
    {
     "data": {
      "text/html": [
       "<div>\n",
       "<style scoped>\n",
       "    .dataframe tbody tr th:only-of-type {\n",
       "        vertical-align: middle;\n",
       "    }\n",
       "\n",
       "    .dataframe tbody tr th {\n",
       "        vertical-align: top;\n",
       "    }\n",
       "\n",
       "    .dataframe thead th {\n",
       "        text-align: right;\n",
       "    }\n",
       "</style>\n",
       "<table border=\"1\" class=\"dataframe\">\n",
       "  <thead>\n",
       "    <tr style=\"text-align: right;\">\n",
       "      <th></th>\n",
       "      <th>Tag</th>\n",
       "      <th>Ids</th>\n",
       "    </tr>\n",
       "  </thead>\n",
       "  <tbody>\n",
       "    <tr>\n",
       "      <th>0</th>\n",
       "      <td>python</td>\n",
       "      <td>[71911980, 71482445, 73047143, 72243463, 72243...</td>\n",
       "    </tr>\n",
       "    <tr>\n",
       "      <th>1</th>\n",
       "      <td>data-science</td>\n",
       "      <td>[71911980, 71482445, 73047143, 72243463, 72243...</td>\n",
       "    </tr>\n",
       "    <tr>\n",
       "      <th>2</th>\n",
       "      <td>machine-learning</td>\n",
       "      <td>[72243463, 72261434, 72268164, 72269625, 72286...</td>\n",
       "    </tr>\n",
       "    <tr>\n",
       "      <th>3</th>\n",
       "      <td>pandas</td>\n",
       "      <td>[72243721, 72251266, 72252860, 72252897, 72259...</td>\n",
       "    </tr>\n",
       "    <tr>\n",
       "      <th>4</th>\n",
       "      <td>moving-average</td>\n",
       "      <td>[225126]</td>\n",
       "    </tr>\n",
       "  </tbody>\n",
       "</table>\n",
       "</div>"
      ],
      "text/plain": [
       "                Tag                                                Ids\n",
       "0            python  [71911980, 71482445, 73047143, 72243463, 72243...\n",
       "1      data-science  [71911980, 71482445, 73047143, 72243463, 72243...\n",
       "2  machine-learning  [72243463, 72261434, 72268164, 72269625, 72286...\n",
       "3            pandas  [72243721, 72251266, 72252860, 72252897, 72259...\n",
       "4    moving-average                                           [225126]"
      ]
     },
     "execution_count": 67,
     "metadata": {},
     "output_type": "execute_result"
    }
   ],
   "source": [
    "inv_df.head()"
   ]
  },
  {
   "cell_type": "code",
   "execution_count": 68,
   "id": "342b7159",
   "metadata": {},
   "outputs": [
    {
     "name": "stdout",
     "output_type": "stream",
     "text": [
      "<class 'pandas.core.frame.DataFrame'>\n",
      "Index: 687 entries, 0 to 334\n",
      "Data columns (total 2 columns):\n",
      " #   Column  Non-Null Count  Dtype \n",
      "---  ------  --------------  ----- \n",
      " 0   Tag     687 non-null    object\n",
      " 1   Ids     687 non-null    object\n",
      "dtypes: object(2)\n",
      "memory usage: 16.1+ KB\n"
     ]
    }
   ],
   "source": [
    "inv_df.info()"
   ]
  },
  {
   "cell_type": "code",
   "execution_count": 69,
   "id": "3d707d40",
   "metadata": {},
   "outputs": [],
   "source": [
    "inv_df.drop(inv_df.loc[inv_df['Tag']=='data-science'].index, inplace=True)"
   ]
  },
  {
   "cell_type": "code",
   "execution_count": 70,
   "id": "c9d213c1",
   "metadata": {},
   "outputs": [],
   "source": [
    "inv_df=inv_df.reset_index()"
   ]
  },
  {
   "cell_type": "code",
   "execution_count": 71,
   "id": "8361e093",
   "metadata": {},
   "outputs": [],
   "source": [
    "inv_df=inv_df.drop('index',axis=1)"
   ]
  },
  {
   "cell_type": "code",
   "execution_count": 72,
   "id": "ab0740cc",
   "metadata": {},
   "outputs": [
    {
     "data": {
      "text/html": [
       "<div>\n",
       "<style scoped>\n",
       "    .dataframe tbody tr th:only-of-type {\n",
       "        vertical-align: middle;\n",
       "    }\n",
       "\n",
       "    .dataframe tbody tr th {\n",
       "        vertical-align: top;\n",
       "    }\n",
       "\n",
       "    .dataframe thead th {\n",
       "        text-align: right;\n",
       "    }\n",
       "</style>\n",
       "<table border=\"1\" class=\"dataframe\">\n",
       "  <thead>\n",
       "    <tr style=\"text-align: right;\">\n",
       "      <th></th>\n",
       "      <th>Tag</th>\n",
       "      <th>Ids</th>\n",
       "    </tr>\n",
       "  </thead>\n",
       "  <tbody>\n",
       "    <tr>\n",
       "      <th>0</th>\n",
       "      <td>python</td>\n",
       "      <td>[71911980, 71482445, 73047143, 72243463, 72243...</td>\n",
       "    </tr>\n",
       "    <tr>\n",
       "      <th>1</th>\n",
       "      <td>machine-learning</td>\n",
       "      <td>[72243463, 72261434, 72268164, 72269625, 72286...</td>\n",
       "    </tr>\n",
       "    <tr>\n",
       "      <th>2</th>\n",
       "      <td>pandas</td>\n",
       "      <td>[72243721, 72251266, 72252860, 72252897, 72259...</td>\n",
       "    </tr>\n",
       "    <tr>\n",
       "      <th>3</th>\n",
       "      <td>moving-average</td>\n",
       "      <td>[225126]</td>\n",
       "    </tr>\n",
       "    <tr>\n",
       "      <th>4</th>\n",
       "      <td>data-science-experience</td>\n",
       "      <td>[72251266, 72483747, 72502563, 72490941, 72706...</td>\n",
       "    </tr>\n",
       "  </tbody>\n",
       "</table>\n",
       "</div>"
      ],
      "text/plain": [
       "                       Tag                                                Ids\n",
       "0                   python  [71911980, 71482445, 73047143, 72243463, 72243...\n",
       "1         machine-learning  [72243463, 72261434, 72268164, 72269625, 72286...\n",
       "2                   pandas  [72243721, 72251266, 72252860, 72252897, 72259...\n",
       "3           moving-average                                           [225126]\n",
       "4  data-science-experience  [72251266, 72483747, 72502563, 72490941, 72706..."
      ]
     },
     "execution_count": 72,
     "metadata": {},
     "output_type": "execute_result"
    }
   ],
   "source": [
    "inv_df.head()"
   ]
  },
  {
   "cell_type": "code",
   "execution_count": 73,
   "id": "5ece63ce",
   "metadata": {},
   "outputs": [],
   "source": [
    "inv_df.to_csv(\"inverted_index.csv\",index=False)"
   ]
  },
  {
   "cell_type": "markdown",
   "id": "d8364830",
   "metadata": {},
   "source": [
    "## EDA\n",
    "\n",
    "### 1. Top Topics"
   ]
  },
  {
   "cell_type": "code",
   "execution_count": 74,
   "id": "dcfbf794",
   "metadata": {},
   "outputs": [],
   "source": [
    "df_expanded = inv_df.explode('Ids')"
   ]
  },
  {
   "cell_type": "code",
   "execution_count": 75,
   "id": "ec4d5ce7",
   "metadata": {},
   "outputs": [
    {
     "data": {
      "text/html": [
       "<div>\n",
       "<style scoped>\n",
       "    .dataframe tbody tr th:only-of-type {\n",
       "        vertical-align: middle;\n",
       "    }\n",
       "\n",
       "    .dataframe tbody tr th {\n",
       "        vertical-align: top;\n",
       "    }\n",
       "\n",
       "    .dataframe thead th {\n",
       "        text-align: right;\n",
       "    }\n",
       "</style>\n",
       "<table border=\"1\" class=\"dataframe\">\n",
       "  <thead>\n",
       "    <tr style=\"text-align: right;\">\n",
       "      <th></th>\n",
       "      <th>Tag</th>\n",
       "      <th>Ids</th>\n",
       "    </tr>\n",
       "  </thead>\n",
       "  <tbody>\n",
       "    <tr>\n",
       "      <th>0</th>\n",
       "      <td>python</td>\n",
       "      <td>71911980</td>\n",
       "    </tr>\n",
       "    <tr>\n",
       "      <th>0</th>\n",
       "      <td>python</td>\n",
       "      <td>71482445</td>\n",
       "    </tr>\n",
       "    <tr>\n",
       "      <th>0</th>\n",
       "      <td>python</td>\n",
       "      <td>73047143</td>\n",
       "    </tr>\n",
       "    <tr>\n",
       "      <th>0</th>\n",
       "      <td>python</td>\n",
       "      <td>72243463</td>\n",
       "    </tr>\n",
       "    <tr>\n",
       "      <th>0</th>\n",
       "      <td>python</td>\n",
       "      <td>72243721</td>\n",
       "    </tr>\n",
       "  </tbody>\n",
       "</table>\n",
       "</div>"
      ],
      "text/plain": [
       "      Tag       Ids\n",
       "0  python  71911980\n",
       "0  python  71482445\n",
       "0  python  73047143\n",
       "0  python  72243463\n",
       "0  python  72243721"
      ]
     },
     "execution_count": 75,
     "metadata": {},
     "output_type": "execute_result"
    }
   ],
   "source": [
    "df_expanded.head()"
   ]
  },
  {
   "cell_type": "code",
   "execution_count": 76,
   "id": "6a921c90",
   "metadata": {},
   "outputs": [],
   "source": [
    "import matplotlib.pyplot as plt"
   ]
  },
  {
   "cell_type": "code",
   "execution_count": 77,
   "id": "5ac32caf",
   "metadata": {},
   "outputs": [],
   "source": [
    "tag_counts = df_expanded['Tag'].value_counts()"
   ]
  },
  {
   "cell_type": "code",
   "execution_count": 78,
   "id": "7af2d4ec",
   "metadata": {},
   "outputs": [
    {
     "data": {
      "text/plain": [
       "Tag\n",
       "python                  1007\n",
       "pandas                   521\n",
       "dataframe                323\n",
       "machine-learning         236\n",
       "r                        103\n",
       "                        ... \n",
       "quantitative-finance       1\n",
       "image-quality              1\n",
       "plotly-express             1\n",
       "conversational-ai          1\n",
       "supervised-learning        1\n",
       "Name: count, Length: 685, dtype: int64"
      ]
     },
     "execution_count": 78,
     "metadata": {},
     "output_type": "execute_result"
    }
   ],
   "source": [
    "tag_counts"
   ]
  },
  {
   "cell_type": "code",
   "execution_count": 79,
   "id": "9f4f4284",
   "metadata": {},
   "outputs": [],
   "source": [
    "top_10_tags = tag_counts.head(10)"
   ]
  },
  {
   "cell_type": "code",
   "execution_count": 80,
   "id": "f46270dd",
   "metadata": {},
   "outputs": [
    {
     "data": {
      "image/png": "[encoded data removed]",
      "text/plain": [
       "<Figure size 720x432 with 1 Axes>"
      ]
     },
     "metadata": {
      "needs_background": "light"
     },
     "output_type": "display_data"
    }
   ],
   "source": [
    "top_10_tags.plot(kind='bar', figsize=(10, 6), color='skyblue')\n",
    "plt.title('Top 10 Tags with Most IDs')\n",
    "plt.xlabel('Tags')\n",
    "plt.ylabel('Number of IDs')\n",
    "plt.show()\n"
   ]
  },
  {
   "cell_type": "markdown",
   "id": "fdad5cbe",
   "metadata": {},
   "source": [
    "### 1. Top 5 topics for each month"
   ]
  },
  {
   "cell_type": "code",
   "execution_count": 81,
   "id": "f95d7dfc",
   "metadata": {},
   "outputs": [],
   "source": [
    "tuple1 = pd.read_csv('WordTuple.txt\\part-00000', sep=',', header=None)\n",
    "tuple2 = pd.read_csv('WordTuple.txt\\part-00001', sep=',', header=None)\n",
    "tupdf=pd.concat([tuple1, tuple2])"
   ]
  },
  {
   "cell_type": "code",
   "execution_count": 82,
   "id": "fb6fa639",
   "metadata": {},
   "outputs": [
    {
     "data": {
      "text/html": [
       "<div>\n",
       "<style scoped>\n",
       "    .dataframe tbody tr th:only-of-type {\n",
       "        vertical-align: middle;\n",
       "    }\n",
       "\n",
       "    .dataframe tbody tr th {\n",
       "        vertical-align: top;\n",
       "    }\n",
       "\n",
       "    .dataframe thead th {\n",
       "        text-align: right;\n",
       "    }\n",
       "</style>\n",
       "<table border=\"1\" class=\"dataframe\">\n",
       "  <thead>\n",
       "    <tr style=\"text-align: right;\">\n",
       "      <th></th>\n",
       "      <th>0</th>\n",
       "      <th>1</th>\n",
       "    </tr>\n",
       "  </thead>\n",
       "  <tbody>\n",
       "    <tr>\n",
       "      <th>0</th>\n",
       "      <td>('python'</td>\n",
       "      <td>71911980)</td>\n",
       "    </tr>\n",
       "    <tr>\n",
       "      <th>1</th>\n",
       "      <td>('data-science'</td>\n",
       "      <td>71911980)</td>\n",
       "    </tr>\n",
       "    <tr>\n",
       "      <th>2</th>\n",
       "      <td>('knn'</td>\n",
       "      <td>71911980)</td>\n",
       "    </tr>\n",
       "    <tr>\n",
       "      <th>3</th>\n",
       "      <td>('python'</td>\n",
       "      <td>71482445)</td>\n",
       "    </tr>\n",
       "    <tr>\n",
       "      <th>4</th>\n",
       "      <td>('pyspark'</td>\n",
       "      <td>71482445)</td>\n",
       "    </tr>\n",
       "  </tbody>\n",
       "</table>\n",
       "</div>"
      ],
      "text/plain": [
       "                 0           1\n",
       "0        ('python'   71911980)\n",
       "1  ('data-science'   71911980)\n",
       "2           ('knn'   71911980)\n",
       "3        ('python'   71482445)\n",
       "4       ('pyspark'   71482445)"
      ]
     },
     "execution_count": 82,
     "metadata": {},
     "output_type": "execute_result"
    }
   ],
   "source": [
    "tupdf.head()"
   ]
  },
  {
   "cell_type": "code",
   "execution_count": 83,
   "id": "03dac7f7",
   "metadata": {},
   "outputs": [],
   "source": [
    "tupdf.columns=['Tag','ID']"
   ]
  },
  {
   "cell_type": "code",
   "execution_count": 84,
   "id": "36d8809b",
   "metadata": {},
   "outputs": [
    {
     "data": {
      "text/html": [
       "<div>\n",
       "<style scoped>\n",
       "    .dataframe tbody tr th:only-of-type {\n",
       "        vertical-align: middle;\n",
       "    }\n",
       "\n",
       "    .dataframe tbody tr th {\n",
       "        vertical-align: top;\n",
       "    }\n",
       "\n",
       "    .dataframe thead th {\n",
       "        text-align: right;\n",
       "    }\n",
       "</style>\n",
       "<table border=\"1\" class=\"dataframe\">\n",
       "  <thead>\n",
       "    <tr style=\"text-align: right;\">\n",
       "      <th></th>\n",
       "      <th>Tag</th>\n",
       "      <th>ID</th>\n",
       "    </tr>\n",
       "  </thead>\n",
       "  <tbody>\n",
       "    <tr>\n",
       "      <th>0</th>\n",
       "      <td>('python'</td>\n",
       "      <td>71911980)</td>\n",
       "    </tr>\n",
       "    <tr>\n",
       "      <th>1</th>\n",
       "      <td>('data-science'</td>\n",
       "      <td>71911980)</td>\n",
       "    </tr>\n",
       "    <tr>\n",
       "      <th>2</th>\n",
       "      <td>('knn'</td>\n",
       "      <td>71911980)</td>\n",
       "    </tr>\n",
       "    <tr>\n",
       "      <th>3</th>\n",
       "      <td>('python'</td>\n",
       "      <td>71482445)</td>\n",
       "    </tr>\n",
       "    <tr>\n",
       "      <th>4</th>\n",
       "      <td>('pyspark'</td>\n",
       "      <td>71482445)</td>\n",
       "    </tr>\n",
       "  </tbody>\n",
       "</table>\n",
       "</div>"
      ],
      "text/plain": [
       "               Tag          ID\n",
       "0        ('python'   71911980)\n",
       "1  ('data-science'   71911980)\n",
       "2           ('knn'   71911980)\n",
       "3        ('python'   71482445)\n",
       "4       ('pyspark'   71482445)"
      ]
     },
     "execution_count": 84,
     "metadata": {},
     "output_type": "execute_result"
    }
   ],
   "source": [
    "tupdf.head()"
   ]
  },
  {
   "cell_type": "code",
   "execution_count": 85,
   "id": "d567f353",
   "metadata": {},
   "outputs": [],
   "source": [
    "tupdf['Tag']=tupdf['Tag'].apply(func1)"
   ]
  },
  {
   "cell_type": "code",
   "execution_count": 86,
   "id": "62cc6936",
   "metadata": {},
   "outputs": [],
   "source": [
    "tupdf['ID']=tupdf['ID'].apply(lambda x:x[0:-1])"
   ]
  },
  {
   "cell_type": "code",
   "execution_count": 87,
   "id": "3b92550d",
   "metadata": {},
   "outputs": [],
   "source": [
    "tupdf['ID']=tupdf['ID'].apply(lambda x:int(x))"
   ]
  },
  {
   "cell_type": "code",
   "execution_count": 88,
   "id": "8595167d",
   "metadata": {},
   "outputs": [
    {
     "data": {
      "text/html": [
       "<div>\n",
       "<style scoped>\n",
       "    .dataframe tbody tr th:only-of-type {\n",
       "        vertical-align: middle;\n",
       "    }\n",
       "\n",
       "    .dataframe tbody tr th {\n",
       "        vertical-align: top;\n",
       "    }\n",
       "\n",
       "    .dataframe thead th {\n",
       "        text-align: right;\n",
       "    }\n",
       "</style>\n",
       "<table border=\"1\" class=\"dataframe\">\n",
       "  <thead>\n",
       "    <tr style=\"text-align: right;\">\n",
       "      <th></th>\n",
       "      <th>Tag</th>\n",
       "      <th>ID</th>\n",
       "    </tr>\n",
       "  </thead>\n",
       "  <tbody>\n",
       "    <tr>\n",
       "      <th>0</th>\n",
       "      <td>python</td>\n",
       "      <td>71911980</td>\n",
       "    </tr>\n",
       "    <tr>\n",
       "      <th>1</th>\n",
       "      <td>data-science</td>\n",
       "      <td>71911980</td>\n",
       "    </tr>\n",
       "    <tr>\n",
       "      <th>2</th>\n",
       "      <td>knn</td>\n",
       "      <td>71911980</td>\n",
       "    </tr>\n",
       "    <tr>\n",
       "      <th>3</th>\n",
       "      <td>python</td>\n",
       "      <td>71482445</td>\n",
       "    </tr>\n",
       "    <tr>\n",
       "      <th>4</th>\n",
       "      <td>pyspark</td>\n",
       "      <td>71482445</td>\n",
       "    </tr>\n",
       "  </tbody>\n",
       "</table>\n",
       "</div>"
      ],
      "text/plain": [
       "            Tag        ID\n",
       "0        python  71911980\n",
       "1  data-science  71911980\n",
       "2           knn  71911980\n",
       "3        python  71482445\n",
       "4       pyspark  71482445"
      ]
     },
     "execution_count": 88,
     "metadata": {},
     "output_type": "execute_result"
    }
   ],
   "source": [
    "tupdf.head()"
   ]
  },
  {
   "cell_type": "code",
   "execution_count": 89,
   "id": "d0a96c0f",
   "metadata": {},
   "outputs": [],
   "source": [
    "tupdf = tupdf.drop(tupdf[tupdf['Tag'] == 'data-science'].index)"
   ]
  },
  {
   "cell_type": "code",
   "execution_count": 90,
   "id": "ca42faff",
   "metadata": {},
   "outputs": [
    {
     "name": "stdout",
     "output_type": "stream",
     "text": [
      "<class 'pandas.core.frame.DataFrame'>\n",
      "Index: 3575 entries, 0 to 3040\n",
      "Data columns (total 2 columns):\n",
      " #   Column  Non-Null Count  Dtype \n",
      "---  ------  --------------  ----- \n",
      " 0   Tag     3575 non-null   object\n",
      " 1   ID      3575 non-null   int64 \n",
      "dtypes: int64(1), object(1)\n",
      "memory usage: 83.8+ KB\n"
     ]
    }
   ],
   "source": [
    "tupdf.info()"
   ]
  },
  {
   "cell_type": "code",
   "execution_count": 91,
   "id": "933fa02c",
   "metadata": {},
   "outputs": [],
   "source": [
    "extdf = tupdf.merge(df[['Id','CreationDate']], how = 'left',\n",
    "                left_on = 'ID', right_on = 'Id').drop(columns = ['Id'])"
   ]
  },
  {
   "cell_type": "code",
   "execution_count": 92,
   "id": "291a6219",
   "metadata": {},
   "outputs": [
    {
     "data": {
      "text/html": [
       "<div>\n",
       "<style scoped>\n",
       "    .dataframe tbody tr th:only-of-type {\n",
       "        vertical-align: middle;\n",
       "    }\n",
       "\n",
       "    .dataframe tbody tr th {\n",
       "        vertical-align: top;\n",
       "    }\n",
       "\n",
       "    .dataframe thead th {\n",
       "        text-align: right;\n",
       "    }\n",
       "</style>\n",
       "<table border=\"1\" class=\"dataframe\">\n",
       "  <thead>\n",
       "    <tr style=\"text-align: right;\">\n",
       "      <th></th>\n",
       "      <th>Tag</th>\n",
       "      <th>ID</th>\n",
       "      <th>CreationDate</th>\n",
       "    </tr>\n",
       "  </thead>\n",
       "  <tbody>\n",
       "    <tr>\n",
       "      <th>0</th>\n",
       "      <td>python</td>\n",
       "      <td>71911980</td>\n",
       "      <td>2022-04-18 12:44:51</td>\n",
       "    </tr>\n",
       "    <tr>\n",
       "      <th>1</th>\n",
       "      <td>python</td>\n",
       "      <td>71482445</td>\n",
       "      <td>2022-03-15 12:42:56</td>\n",
       "    </tr>\n",
       "    <tr>\n",
       "      <th>2</th>\n",
       "      <td>pyspark</td>\n",
       "      <td>71482445</td>\n",
       "      <td>2022-03-15 12:42:56</td>\n",
       "    </tr>\n",
       "    <tr>\n",
       "      <th>3</th>\n",
       "      <td>excel</td>\n",
       "      <td>73047143</td>\n",
       "      <td>2022-07-20 06:53:51</td>\n",
       "    </tr>\n",
       "    <tr>\n",
       "      <th>4</th>\n",
       "      <td>machine-learning</td>\n",
       "      <td>72243463</td>\n",
       "      <td>2022-05-14 19:55:19</td>\n",
       "    </tr>\n",
       "  </tbody>\n",
       "</table>\n",
       "</div>"
      ],
      "text/plain": [
       "                Tag        ID         CreationDate\n",
       "0            python  71911980  2022-04-18 12:44:51\n",
       "1            python  71482445  2022-03-15 12:42:56\n",
       "2           pyspark  71482445  2022-03-15 12:42:56\n",
       "3             excel  73047143  2022-07-20 06:53:51\n",
       "4  machine-learning  72243463  2022-05-14 19:55:19"
      ]
     },
     "execution_count": 92,
     "metadata": {},
     "output_type": "execute_result"
    }
   ],
   "source": [
    "extdf.head()"
   ]
  },
  {
   "cell_type": "code",
   "execution_count": 93,
   "id": "733ab1a1",
   "metadata": {},
   "outputs": [],
   "source": [
    "extdf['CreationDate'] = pd.to_datetime(extdf['CreationDate'])"
   ]
  },
  {
   "cell_type": "code",
   "execution_count": 94,
   "id": "90690cb5",
   "metadata": {},
   "outputs": [
    {
     "name": "stdout",
     "output_type": "stream",
     "text": [
      "<class 'pandas.core.frame.DataFrame'>\n",
      "RangeIndex: 3575 entries, 0 to 3574\n",
      "Data columns (total 3 columns):\n",
      " #   Column        Non-Null Count  Dtype         \n",
      "---  ------        --------------  -----         \n",
      " 0   Tag           3575 non-null   object        \n",
      " 1   ID            3575 non-null   int64         \n",
      " 2   CreationDate  3575 non-null   datetime64[ns]\n",
      "dtypes: datetime64[ns](1), int64(1), object(1)\n",
      "memory usage: 83.9+ KB\n"
     ]
    }
   ],
   "source": [
    "extdf.info()"
   ]
  },
  {
   "cell_type": "code",
   "execution_count": 95,
   "id": "d950aa54",
   "metadata": {},
   "outputs": [
    {
     "data": {
      "text/html": [
       "<div>\n",
       "<style scoped>\n",
       "    .dataframe tbody tr th:only-of-type {\n",
       "        vertical-align: middle;\n",
       "    }\n",
       "\n",
       "    .dataframe tbody tr th {\n",
       "        vertical-align: top;\n",
       "    }\n",
       "\n",
       "    .dataframe thead th {\n",
       "        text-align: right;\n",
       "    }\n",
       "</style>\n",
       "<table border=\"1\" class=\"dataframe\">\n",
       "  <thead>\n",
       "    <tr style=\"text-align: right;\">\n",
       "      <th></th>\n",
       "      <th>Tag</th>\n",
       "      <th>ID</th>\n",
       "      <th>CreationDate</th>\n",
       "    </tr>\n",
       "  </thead>\n",
       "  <tbody>\n",
       "    <tr>\n",
       "      <th>0</th>\n",
       "      <td>python</td>\n",
       "      <td>71911980</td>\n",
       "      <td>2022-04-18 12:44:51</td>\n",
       "    </tr>\n",
       "    <tr>\n",
       "      <th>1</th>\n",
       "      <td>python</td>\n",
       "      <td>71482445</td>\n",
       "      <td>2022-03-15 12:42:56</td>\n",
       "    </tr>\n",
       "    <tr>\n",
       "      <th>2</th>\n",
       "      <td>pyspark</td>\n",
       "      <td>71482445</td>\n",
       "      <td>2022-03-15 12:42:56</td>\n",
       "    </tr>\n",
       "    <tr>\n",
       "      <th>3</th>\n",
       "      <td>excel</td>\n",
       "      <td>73047143</td>\n",
       "      <td>2022-07-20 06:53:51</td>\n",
       "    </tr>\n",
       "    <tr>\n",
       "      <th>4</th>\n",
       "      <td>machine-learning</td>\n",
       "      <td>72243463</td>\n",
       "      <td>2022-05-14 19:55:19</td>\n",
       "    </tr>\n",
       "  </tbody>\n",
       "</table>\n",
       "</div>"
      ],
      "text/plain": [
       "                Tag        ID        CreationDate\n",
       "0            python  71911980 2022-04-18 12:44:51\n",
       "1            python  71482445 2022-03-15 12:42:56\n",
       "2           pyspark  71482445 2022-03-15 12:42:56\n",
       "3             excel  73047143 2022-07-20 06:53:51\n",
       "4  machine-learning  72243463 2022-05-14 19:55:19"
      ]
     },
     "execution_count": 95,
     "metadata": {},
     "output_type": "execute_result"
    }
   ],
   "source": [
    "extdf.head()"
   ]
  },
  {
   "cell_type": "code",
   "execution_count": 96,
   "id": "1bbde92e",
   "metadata": {},
   "outputs": [],
   "source": [
    "# Extract month from 'CreationDate'\n",
    "extdf['Month'] = extdf['CreationDate'].dt.month"
   ]
  },
  {
   "cell_type": "code",
   "execution_count": 97,
   "id": "d6012f35",
   "metadata": {},
   "outputs": [],
   "source": [
    "# Group by month and tag, count occurrences, and select the top 5 tags for each month\n",
    "top_tags_by_month = (extdf.groupby(['Month', 'Tag'])\n",
    "                     .size()\n",
    "                     .reset_index(name='TagCount')\n",
    "                     .groupby('Month')\n",
    "                     .apply(lambda x: x.nlargest(5, 'TagCount'))\n",
    "                     .reset_index(drop=True))"
   ]
  },
  {
   "cell_type": "code",
   "execution_count": 98,
   "id": "357d9e42",
   "metadata": {},
   "outputs": [
    {
     "data": {
      "image/png": "[encoded data removed]",
      "text/plain": [
       "<Figure size 504x360 with 1 Axes>"
      ]
     },
     "metadata": {
      "needs_background": "light"
     },
     "output_type": "display_data"
    },
    {
     "data": {
      "image/png": "[encoded data removed]",
      "text/plain": [
       "<Figure size 504x360 with 1 Axes>"
      ]
     },
     "metadata": {
      "needs_background": "light"
     },
     "output_type": "display_data"
    },
    {
     "data": {
      "image/png": "[encoded data removed]",
      "text/plain": [
       "<Figure size 504x360 with 1 Axes>"
      ]
     },
     "metadata": {
      "needs_background": "light"
     },
     "output_type": "display_data"
    },
    {
     "data": {
      "image/png": "[encoded data removed]",
      "text/plain": [
       "<Figure size 504x360 with 1 Axes>"
      ]
     },
     "metadata": {
      "needs_background": "light"
     },
     "output_type": "display_data"
    },
    {
     "data": {
      "image/png": "[encoded data removed]",
      "text/plain": [
       "<Figure size 504x360 with 1 Axes>"
      ]
     },
     "metadata": {
      "needs_background": "light"
     },
     "output_type": "display_data"
    },
    {
     "data": {
      "image/png": "[encoded data removed]",
      "text/plain": [
       "<Figure size 504x360 with 1 Axes>"
      ]
     },
     "metadata": {
      "needs_background": "light"
     },
     "output_type": "display_data"
    },
    {
     "data": {
      "image/png": "[encoded data removed]",
      "text/plain": [
       "<Figure size 504x360 with 1 Axes>"
      ]
     },
     "metadata": {
      "needs_background": "light"
     },
     "output_type": "display_data"
    },
    {
     "data": {
      "image/png": "[encoded data removed]",
      "text/plain": [
       "<Figure size 504x360 with 1 Axes>"
      ]
     },
     "metadata": {
      "needs_background": "light"
     },
     "output_type": "display_data"
    },
    {
     "data": {
      "image/png": "[encoded data removed]",
      "text/plain": [
       "<Figure size 504x360 with 1 Axes>"
      ]
     },
     "metadata": {
      "needs_background": "light"
     },
     "output_type": "display_data"
    },
    {
     "data": {
      "image/png": "[encoded data removed]",
      "text/plain": [
       "<Figure size 504x360 with 1 Axes>"
      ]
     },
     "metadata": {
      "needs_background": "light"
     },
     "output_type": "display_data"
    },
    {
     "data": {
      "image/png": "[encoded data removed]",
      "text/plain": [
       "<Figure size 504x360 with 1 Axes>"
      ]
     },
     "metadata": {
      "needs_background": "light"
     },
     "output_type": "display_data"
    },
    {
     "data": {
      "image/png": "[encoded data removed]",
      "text/plain": [
       "<Figure size 504x360 with 1 Axes>"
      ]
     },
     "metadata": {
      "needs_background": "light"
     },
     "output_type": "display_data"
    }
   ],
   "source": [
    "for month, group in top_tags_by_month.groupby('Month'):\n",
    "    plt.figure(figsize=(7, 5))\n",
    "    plt.bar(group['Tag'], group['TagCount'], color='skyblue')\n",
    "    plt.title(f'Top 5 Tags for Month {month}')\n",
    "    plt.xlabel('Tags')\n",
    "    plt.ylabel('Tag Count')\n",
    "    plt.show()\n"
   ]
  },
  {
   "cell_type": "code",
   "execution_count": null,
   "id": "b61c92fb",
   "metadata": {},
   "outputs": [],
   "source": []
  }
 ],
 "metadata": {
  "kernelspec": {
   "display_name": "Python 3 (ipykernel)",
   "language": "python",
   "name": "python3"
  },
  "language_info": {
   "codemirror_mode": {
    "name": "ipython",
    "version": 3
   },
   "file_extension": ".py",
   "mimetype": "text/x-python",
   "name": "python",
   "nbconvert_exporter": "python",
   "pygments_lexer": "ipython3",
   "version": "3.10.4"
  }
 },
 "nbformat": 4,
 "nbformat_minor": 5
}
